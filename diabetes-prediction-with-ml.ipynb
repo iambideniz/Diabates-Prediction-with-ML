{
 "cells": [
  {
   "cell_type": "code",
   "execution_count": 1,
   "id": "b772edef",
   "metadata": {
    "_cell_guid": "b1076dfc-b9ad-4769-8c92-a6c4dae69d19",
    "_uuid": "8f2839f25d086af736a60e9eeb907d3b93b6e0e5",
    "execution": {
     "iopub.execute_input": "2021-07-28T14:39:26.178776Z",
     "iopub.status.busy": "2021-07-28T14:39:26.177714Z",
     "iopub.status.idle": "2021-07-28T14:39:36.191050Z",
     "shell.execute_reply": "2021-07-28T14:39:36.191534Z",
     "shell.execute_reply.started": "2021-07-28T14:33:45.607011Z"
    },
    "papermill": {
     "duration": 10.042742,
     "end_time": "2021-07-28T14:39:36.191848",
     "exception": false,
     "start_time": "2021-07-28T14:39:26.149106",
     "status": "completed"
    },
    "tags": []
   },
   "outputs": [
    {
     "name": "stdout",
     "output_type": "stream",
     "text": [
      "Requirement already satisfied: scikit-learn in /opt/conda/lib/python3.7/site-packages (0.23.2)\r\n",
      "Requirement already satisfied: scipy>=0.19.1 in /opt/conda/lib/python3.7/site-packages (from scikit-learn) (1.6.3)\r\n",
      "Requirement already satisfied: numpy>=1.13.3 in /opt/conda/lib/python3.7/site-packages (from scikit-learn) (1.19.5)\r\n",
      "Requirement already satisfied: threadpoolctl>=2.0.0 in /opt/conda/lib/python3.7/site-packages (from scikit-learn) (2.1.0)\r\n",
      "Requirement already satisfied: joblib>=0.11 in /opt/conda/lib/python3.7/site-packages (from scikit-learn) (1.0.1)\r\n",
      "\u001b[33mWARNING: Running pip as root will break packages and permissions. You should install packages reliably by using venv: https://pip.pypa.io/warnings/venv\u001b[0m\r\n"
     ]
    },
    {
     "data": {
      "text/html": [
       "<style type='text/css'>\n",
       ".datatable table.frame { margin-bottom: 0; }\n",
       ".datatable table.frame thead { border-bottom: none; }\n",
       ".datatable table.frame tr.coltypes td {  color: #FFFFFF;  line-height: 6px;  padding: 0 0.5em;}\n",
       ".datatable .bool    { background: #DDDD99; }\n",
       ".datatable .object  { background: #565656; }\n",
       ".datatable .int     { background: #5D9E5D; }\n",
       ".datatable .float   { background: #4040CC; }\n",
       ".datatable .str     { background: #CC4040; }\n",
       ".datatable .time    { background: #40CC40; }\n",
       ".datatable .row_index {  background: var(--jp-border-color3);  border-right: 1px solid var(--jp-border-color0);  color: var(--jp-ui-font-color3);  font-size: 9px;}\n",
       ".datatable .frame tbody td { text-align: left; }\n",
       ".datatable .frame tr.coltypes .row_index {  background: var(--jp-border-color0);}\n",
       ".datatable th:nth-child(2) { padding-left: 12px; }\n",
       ".datatable .hellipsis {  color: var(--jp-cell-editor-border-color);}\n",
       ".datatable .vellipsis {  background: var(--jp-layout-color0);  color: var(--jp-cell-editor-border-color);}\n",
       ".datatable .na {  color: var(--jp-cell-editor-border-color);  font-size: 80%;}\n",
       ".datatable .sp {  opacity: 0.25;}\n",
       ".datatable .footer { font-size: 9px; }\n",
       ".datatable .frame_dimensions {  background: var(--jp-border-color3);  border-top: 1px solid var(--jp-border-color0);  color: var(--jp-ui-font-color3);  display: inline-block;  opacity: 0.6;  padding: 1px 10px 1px 5px;}\n",
       "</style>\n"
      ],
      "text/plain": [
       "<IPython.core.display.HTML object>"
      ]
     },
     "metadata": {},
     "output_type": "display_data"
    },
    {
     "name": "stdout",
     "output_type": "stream",
     "text": [
      "/kaggle/input/diabetes-data-set/diabetes.csv\n"
     ]
    }
   ],
   "source": [
    "# This Python 3 environment comes with many helpful analytics libraries installed\n",
    "# It is defined by the kaggle/python Docker image: https://github.com/kaggle/docker-python\n",
    "# For example, here's several helpful packages to load\n",
    "\n",
    "!pip install scikit-learn\n",
    "import numpy as np # linear algebra\n",
    "import pandas as pd # data processing, CSV file I/O (e.g. pd.read_csv)\n",
    "import pickle\n",
    "import numpy as np\n",
    "import pandas as pd\n",
    "import matplotlib.pyplot as plt\n",
    "import seaborn as sns\n",
    "from sklearn.metrics import accuracy_score, precision_score, recall_score, f1_score, \\\n",
    "    roc_auc_score, confusion_matrix, classification_report, plot_roc_curve\n",
    "from sklearn.model_selection import train_test_split, GridSearchCV\n",
    "from sklearn.linear_model import LogisticRegression\n",
    "from sklearn.neighbors import KNeighborsClassifier\n",
    "from sklearn.tree import DecisionTreeClassifier\n",
    "from sklearn.ensemble import RandomForestClassifier\n",
    "from sklearn.ensemble import GradientBoostingClassifier\n",
    "from catboost import CatBoostClassifier\n",
    "from lightgbm import LGBMClassifier\n",
    "from sklearn.svm import SVC\n",
    "from sklearn.preprocessing import LabelEncoder\n",
    "import warnings\n",
    "warnings.simplefilter(action=\"ignore\")\n",
    "\n",
    "pd.set_option('display.max_columns', None)\n",
    "pd.set_option('display.width', 170)\n",
    "pd.set_option('display.max_rows', 20)\n",
    "pd.set_option('display.float_format', lambda x: '%.3f' % x)\n",
    "\n",
    "# Input data files are available in the read-only \"../input/\" directory\n",
    "# For example, running this (by clicking run or pressing Shift+Enter) will list all files under the input directory\n",
    "\n",
    "import os\n",
    "for dirname, _, filenames in os.walk('/kaggle/input'):\n",
    "    for filename in filenames:\n",
    "        print(os.path.join(dirname, filename))\n",
    "\n",
    "# You can write up to 20GB to the current directory (/kaggle/working/) that gets preserved as output when you create a version using \"Save & Run All\" \n",
    "# You can also write temporary files to /kaggle/temp/, but they won't be saved outside of the current session"
   ]
  },
  {
   "cell_type": "markdown",
   "id": "02ff8a0d",
   "metadata": {
    "papermill": {
     "duration": 0.024968,
     "end_time": "2021-07-28T14:39:36.242896",
     "exception": false,
     "start_time": "2021-07-28T14:39:36.217928",
     "status": "completed"
    },
    "tags": []
   },
   "source": [
    "# Dataset and Story\n",
    "\n",
    "**Business Problem**\n",
    "\n",
    "Can you develop a machine learning model that can predict whether people have diabetes when their characteristics are specified?\n",
    "\n",
    "The dataset is part of the large dataset held at the National Institutes of Diabetes-Digestive-Kidney Diseases in the USA. Persons aged 21 and over living in Phoenix, the 5th largest city in the State of Arizona in the USA. Data used for diabetes research on Pima Indian women. It consists of 768 observations and 8 numerical independent variables. The target variable is specified as \"outcome\"; 1 indicates positive diabetes test result, 0 indicates negative.\n",
    "\n",
    "**Variables**\n",
    "- Pregnancies: Number of pregnancies\n",
    "- Glucose: Glucose.\n",
    "- BloodPressure: Blood pressure.\n",
    "- SkinThickness: Skin Thickness\n",
    "- Insulin: Insulin.\n",
    "- BMI: Body mass index.\n",
    "- DiabetesPedigreeFunction: A function that calculates our probability of having diabetes based on our ancestry.\n",
    "- Age: Age (years)\n",
    "- Outcome: Information whether the person has diabetes or not. Have the disease (1) or not (0)\n"
   ]
  },
  {
   "cell_type": "markdown",
   "id": "db50db9e",
   "metadata": {
    "papermill": {
     "duration": 0.02507,
     "end_time": "2021-07-28T14:39:36.293568",
     "exception": false,
     "start_time": "2021-07-28T14:39:36.268498",
     "status": "completed"
    },
    "tags": []
   },
   "source": [
    "**TASK**\n",
    "\n",
    "Develop diabetes prediction model by performing literature search, data preprocessing and feature engineering."
   ]
  },
  {
   "cell_type": "markdown",
   "id": "bdca4eff",
   "metadata": {
    "papermill": {
     "duration": 0.025103,
     "end_time": "2021-07-28T14:39:36.344092",
     "exception": false,
     "start_time": "2021-07-28T14:39:36.318989",
     "status": "completed"
    },
    "tags": []
   },
   "source": [
    "# EDA Analysis"
   ]
  },
  {
   "cell_type": "code",
   "execution_count": 2,
   "id": "da34e471",
   "metadata": {
    "execution": {
     "iopub.execute_input": "2021-07-28T14:39:36.398261Z",
     "iopub.status.busy": "2021-07-28T14:39:36.397679Z",
     "iopub.status.idle": "2021-07-28T14:39:36.412146Z",
     "shell.execute_reply": "2021-07-28T14:39:36.411610Z",
     "shell.execute_reply.started": "2021-07-28T14:36:46.419455Z"
    },
    "papermill": {
     "duration": 0.042559,
     "end_time": "2021-07-28T14:39:36.412282",
     "exception": false,
     "start_time": "2021-07-28T14:39:36.369723",
     "status": "completed"
    },
    "tags": []
   },
   "outputs": [],
   "source": [
    "df = pd.read_csv(\"/kaggle/input/diabetes-data-set/diabetes.csv\")"
   ]
  },
  {
   "cell_type": "code",
   "execution_count": 3,
   "id": "15441b06",
   "metadata": {
    "execution": {
     "iopub.execute_input": "2021-07-28T14:39:36.481793Z",
     "iopub.status.busy": "2021-07-28T14:39:36.472773Z",
     "iopub.status.idle": "2021-07-28T14:39:36.484982Z",
     "shell.execute_reply": "2021-07-28T14:39:36.484483Z",
     "shell.execute_reply.started": "2021-07-28T14:23:13.814194Z"
    },
    "jupyter": {
     "source_hidden": true
    },
    "papermill": {
     "duration": 0.046192,
     "end_time": "2021-07-28T14:39:36.485124",
     "exception": false,
     "start_time": "2021-07-28T14:39:36.438932",
     "status": "completed"
    },
    "tags": []
   },
   "outputs": [],
   "source": [
    "def check_df(dataframe, head=5):\n",
    "    print(\"##################### Shape #####################\")\n",
    "    print(dataframe.shape)\n",
    "    print(\"##################### Types #####################\")\n",
    "    print(dataframe.dtypes)\n",
    "    print(\"##################### Head #####################\")\n",
    "    print(dataframe.head(head))\n",
    "    print(\"##################### Tail #####################\")\n",
    "    print(dataframe.tail(head))\n",
    "    print(\"##################### NA #####################\")\n",
    "    print(dataframe.isnull().sum())\n",
    "    print(\"##################### Quantiles #####################\")\n",
    "    print(dataframe.quantile([0, 0.05, 0.50, 0.95, 0.99, 1]).T)\n",
    "\n",
    "def cat_summary(dataframe, col_name, plot=False):\n",
    "    print(pd.DataFrame({col_name: dataframe[col_name].value_counts(),\n",
    "                        \"Ratio\": 100 * dataframe[col_name].value_counts() / len(dataframe)}))\n",
    "    print(\"##########################################\")\n",
    "    if plot:\n",
    "        sns.countplot(x=dataframe[col_name], data=dataframe)\n",
    "        plt.show()\n",
    "\n",
    "def num_summary(dataframe, numerical_col, plot=False):\n",
    "    quantiles = [0.05, 0.10, 0.20, 0.30, 0.40, 0.50, 0.60, 0.70, 0.80, 0.90, 0.95, 0.99]\n",
    "    print(dataframe[numerical_col].describe(quantiles).T)\n",
    "\n",
    "    if plot:\n",
    "        dataframe[numerical_col].hist(bins=20)\n",
    "        plt.xlabel(numerical_col)\n",
    "        plt.title(numerical_col)\n",
    "        plt.show()\n",
    "\n",
    "def grab_col_names(dataframe, cat_th=10, car_th=20): \n",
    "    # cat_cols, cat_but_car\n",
    "    cat_cols = [col for col in dataframe.columns if dataframe[col].dtypes == \"O\"]\n",
    "    num_but_cat = [col for col in dataframe.columns if dataframe[col].nunique() < cat_th and\n",
    "                   dataframe[col].dtypes != \"O\"]\n",
    "    cat_but_car = [col for col in dataframe.columns if dataframe[col].nunique() > car_th and\n",
    "                   dataframe[col].dtypes == \"O\"]\n",
    "    cat_cols = cat_cols + num_but_cat\n",
    "    cat_cols = [col for col in cat_cols if col not in cat_but_car]\n",
    "\n",
    "    # num_cols\n",
    "    num_cols = [col for col in dataframe.columns if dataframe[col].dtypes != \"O\"]\n",
    "    num_cols = [col for col in num_cols if col not in num_but_cat]\n",
    "\n",
    "    print(f\"Observations: {dataframe.shape[0]}\")\n",
    "    print(f\"Variables: {dataframe.shape[1]}\")\n",
    "    print(f'cat_cols: {len(cat_cols)}')\n",
    "    print(f'num_cols: {len(num_cols)}')\n",
    "    print(f'cat_but_car: {len(cat_but_car)}')\n",
    "    print(f'num_but_cat: {len(num_but_cat)}')\n",
    "    return cat_cols, num_cols, cat_but_car\n",
    "\n",
    "def target_summary_with_cat(dataframe, target, categorical_col):\n",
    "    print(pd.DataFrame({\"TARGET_MEAN\": dataframe.groupby(categorical_col)[target].mean()}), end=\"\\n\\n\\n\")\n",
    "\n",
    "def target_summary_with_num(dataframe, target, numerical_col):\n",
    "    print(dataframe.groupby(target).agg({numerical_col: \"mean\"}), end=\"\\n\\n\\n\")\n",
    "\n",
    "def high_correlated_cols(dataframe, plot=False, corr_th=0.90):\n",
    "    corr = dataframe.corr()\n",
    "    cor_matrix = corr.abs()\n",
    "    upper_triangle_matrix = cor_matrix.where(np.triu(np.ones(cor_matrix.shape), k=1).astype(np.bool))\n",
    "    drop_list = [col for col in upper_triangle_matrix.columns if any(upper_triangle_matrix[col] > corr_th)]\n",
    "    if plot:\n",
    "        import seaborn as sns\n",
    "        import matplotlib.pyplot as plt\n",
    "        sns.set(rc={'figure.figsize': (15, 15)})\n",
    "        sns.heatmap(corr, cmap=\"RdBu\")\n",
    "        plt.show()\n",
    "    return drop_list"
   ]
  },
  {
   "cell_type": "code",
   "execution_count": 4,
   "id": "d99e3d34",
   "metadata": {
    "execution": {
     "iopub.execute_input": "2021-07-28T14:39:36.546176Z",
     "iopub.status.busy": "2021-07-28T14:39:36.545218Z",
     "iopub.status.idle": "2021-07-28T14:39:36.570813Z",
     "shell.execute_reply": "2021-07-28T14:39:36.570265Z",
     "shell.execute_reply.started": "2021-07-28T14:36:47.997768Z"
    },
    "papermill": {
     "duration": 0.060548,
     "end_time": "2021-07-28T14:39:36.570949",
     "exception": false,
     "start_time": "2021-07-28T14:39:36.510401",
     "status": "completed"
    },
    "tags": []
   },
   "outputs": [
    {
     "name": "stdout",
     "output_type": "stream",
     "text": [
      "##################### Shape #####################\n",
      "(768, 9)\n",
      "##################### Types #####################\n",
      "Pregnancies                   int64\n",
      "Glucose                       int64\n",
      "BloodPressure                 int64\n",
      "SkinThickness                 int64\n",
      "Insulin                       int64\n",
      "BMI                         float64\n",
      "DiabetesPedigreeFunction    float64\n",
      "Age                           int64\n",
      "Outcome                       int64\n",
      "dtype: object\n",
      "##################### Head #####################\n",
      "   Pregnancies  Glucose  BloodPressure  SkinThickness  Insulin    BMI  DiabetesPedigreeFunction  Age  Outcome\n",
      "0            6      148             72             35        0 33.600                     0.627   50        1\n",
      "1            1       85             66             29        0 26.600                     0.351   31        0\n",
      "2            8      183             64              0        0 23.300                     0.672   32        1\n",
      "3            1       89             66             23       94 28.100                     0.167   21        0\n",
      "4            0      137             40             35      168 43.100                     2.288   33        1\n",
      "##################### Tail #####################\n",
      "     Pregnancies  Glucose  BloodPressure  SkinThickness  Insulin    BMI  DiabetesPedigreeFunction  Age  Outcome\n",
      "763           10      101             76             48      180 32.900                     0.171   63        0\n",
      "764            2      122             70             27        0 36.800                     0.340   27        0\n",
      "765            5      121             72             23      112 26.200                     0.245   30        0\n",
      "766            1      126             60              0        0 30.100                     0.349   47        1\n",
      "767            1       93             70             31        0 30.400                     0.315   23        0\n",
      "##################### NA #####################\n",
      "Pregnancies                 0\n",
      "Glucose                     0\n",
      "BloodPressure               0\n",
      "SkinThickness               0\n",
      "Insulin                     0\n",
      "BMI                         0\n",
      "DiabetesPedigreeFunction    0\n",
      "Age                         0\n",
      "Outcome                     0\n",
      "dtype: int64\n",
      "##################### Quantiles #####################\n",
      "                          0.000  0.050   0.500   0.950   0.990   1.000\n",
      "Pregnancies               0.000  0.000   3.000  10.000  13.000  17.000\n",
      "Glucose                   0.000 79.000 117.000 181.000 196.000 199.000\n",
      "BloodPressure             0.000 38.700  72.000  90.000 106.000 122.000\n",
      "SkinThickness             0.000  0.000  23.000  44.000  51.330  99.000\n",
      "Insulin                   0.000  0.000  30.500 293.000 519.900 846.000\n",
      "BMI                       0.000 21.800  32.000  44.395  50.759  67.100\n",
      "DiabetesPedigreeFunction  0.078  0.140   0.372   1.133   1.698   2.420\n",
      "Age                      21.000 21.000  29.000  58.000  67.000  81.000\n",
      "Outcome                   0.000  0.000   0.000   1.000   1.000   1.000\n"
     ]
    }
   ],
   "source": [
    "check_df(df)"
   ]
  },
  {
   "cell_type": "code",
   "execution_count": 5,
   "id": "5cb9e338",
   "metadata": {
    "execution": {
     "iopub.execute_input": "2021-07-28T14:39:36.630799Z",
     "iopub.status.busy": "2021-07-28T14:39:36.629833Z",
     "iopub.status.idle": "2021-07-28T14:39:36.639132Z",
     "shell.execute_reply": "2021-07-28T14:39:36.638631Z",
     "shell.execute_reply.started": "2021-07-28T14:36:51.378226Z"
    },
    "papermill": {
     "duration": 0.041395,
     "end_time": "2021-07-28T14:39:36.639281",
     "exception": false,
     "start_time": "2021-07-28T14:39:36.597886",
     "status": "completed"
    },
    "tags": []
   },
   "outputs": [
    {
     "name": "stdout",
     "output_type": "stream",
     "text": [
      "Observations: 768\n",
      "Variables: 9\n",
      "cat_cols: 1\n",
      "num_cols: 8\n",
      "cat_but_car: 0\n",
      "num_but_cat: 1\n"
     ]
    }
   ],
   "source": [
    "cat_cols, num_cols, cat_but_car = grab_col_names(df)"
   ]
  },
  {
   "cell_type": "code",
   "execution_count": 6,
   "id": "7b4fb8ff",
   "metadata": {
    "execution": {
     "iopub.execute_input": "2021-07-28T14:39:36.701129Z",
     "iopub.status.busy": "2021-07-28T14:39:36.700479Z",
     "iopub.status.idle": "2021-07-28T14:39:36.703897Z",
     "shell.execute_reply": "2021-07-28T14:39:36.704341Z",
     "shell.execute_reply.started": "2021-07-28T14:36:53.118622Z"
    },
    "papermill": {
     "duration": 0.039062,
     "end_time": "2021-07-28T14:39:36.704504",
     "exception": false,
     "start_time": "2021-07-28T14:39:36.665442",
     "status": "completed"
    },
    "tags": []
   },
   "outputs": [
    {
     "name": "stdout",
     "output_type": "stream",
     "text": [
      "   Outcome  Ratio\n",
      "0      500 65.104\n",
      "1      268 34.896\n",
      "##########################################\n"
     ]
    }
   ],
   "source": [
    "# Analysis of Categorical Variables\n",
    "cat_summary(df, \"Outcome\")"
   ]
  },
  {
   "cell_type": "code",
   "execution_count": 7,
   "id": "41b58380",
   "metadata": {
    "execution": {
     "iopub.execute_input": "2021-07-28T14:39:36.762964Z",
     "iopub.status.busy": "2021-07-28T14:39:36.762382Z",
     "iopub.status.idle": "2021-07-28T14:39:38.106399Z",
     "shell.execute_reply": "2021-07-28T14:39:38.106881Z",
     "shell.execute_reply.started": "2021-07-28T14:36:54.750619Z"
    },
    "papermill": {
     "duration": 1.376357,
     "end_time": "2021-07-28T14:39:38.107049",
     "exception": false,
     "start_time": "2021-07-28T14:39:36.730692",
     "status": "completed"
    },
    "tags": []
   },
   "outputs": [
    {
     "name": "stdout",
     "output_type": "stream",
     "text": [
      "count   768.000\n",
      "mean      3.845\n",
      "std       3.370\n",
      "min       0.000\n",
      "5%        0.000\n",
      "10%       0.000\n",
      "20%       1.000\n",
      "30%       1.000\n",
      "40%       2.000\n",
      "50%       3.000\n",
      "60%       4.000\n",
      "70%       5.000\n",
      "80%       7.000\n",
      "90%       9.000\n",
      "95%      10.000\n",
      "99%      13.000\n",
      "max      17.000\n",
      "Name: Pregnancies, dtype: float64\n"
     ]
    },
    {
     "data": {
      "image/png": "[encoded data removed]",
      "text/plain": [
       "<Figure size 432x288 with 1 Axes>"
      ]
     },
     "metadata": {
      "needs_background": "light"
     },
     "output_type": "display_data"
    },
    {
     "name": "stdout",
     "output_type": "stream",
     "text": [
      "count   768.000\n",
      "mean    120.895\n",
      "std      31.973\n",
      "min       0.000\n",
      "5%       79.000\n",
      "10%      85.000\n",
      "20%      95.000\n",
      "30%     102.000\n",
      "40%     109.000\n",
      "50%     117.000\n",
      "60%     125.000\n",
      "70%     134.000\n",
      "80%     147.000\n",
      "90%     167.000\n",
      "95%     181.000\n",
      "99%     196.000\n",
      "max     199.000\n",
      "Name: Glucose, dtype: float64\n"
     ]
    },
    {
     "data": {
      "image/png": "[encoded data removed]",
      "text/plain": [
       "<Figure size 432x288 with 1 Axes>"
      ]
     },
     "metadata": {
      "needs_background": "light"
     },
     "output_type": "display_data"
    },
    {
     "name": "stdout",
     "output_type": "stream",
     "text": [
      "count   768.000\n",
      "mean     69.105\n",
      "std      19.356\n",
      "min       0.000\n",
      "5%       38.700\n",
      "10%      54.000\n",
      "20%      60.000\n",
      "30%      64.000\n",
      "40%      68.000\n",
      "50%      72.000\n",
      "60%      74.000\n",
      "70%      78.000\n",
      "80%      82.000\n",
      "90%      88.000\n",
      "95%      90.000\n",
      "99%     106.000\n",
      "max     122.000\n",
      "Name: BloodPressure, dtype: float64\n"
     ]
    },
    {
     "data": {
      "image/png": "[encoded data removed]",
      "text/plain": [
       "<Figure size 432x288 with 1 Axes>"
      ]
     },
     "metadata": {
      "needs_background": "light"
     },
     "output_type": "display_data"
    },
    {
     "name": "stdout",
     "output_type": "stream",
     "text": [
      "count   768.000\n",
      "mean     20.536\n",
      "std      15.952\n",
      "min       0.000\n",
      "5%        0.000\n",
      "10%       0.000\n",
      "20%       0.000\n",
      "30%       8.200\n",
      "40%      18.000\n",
      "50%      23.000\n",
      "60%      27.000\n",
      "70%      31.000\n",
      "80%      35.000\n",
      "90%      40.000\n",
      "95%      44.000\n",
      "99%      51.330\n",
      "max      99.000\n",
      "Name: SkinThickness, dtype: float64\n"
     ]
    },
    {
     "data": {
      "image/png": "[encoded data removed]",
      "text/plain": [
       "<Figure size 432x288 with 1 Axes>"
      ]
     },
     "metadata": {
      "needs_background": "light"
     },
     "output_type": "display_data"
    },
    {
     "name": "stdout",
     "output_type": "stream",
     "text": [
      "count   768.000\n",
      "mean     79.799\n",
      "std     115.244\n",
      "min       0.000\n",
      "5%        0.000\n",
      "10%       0.000\n",
      "20%       0.000\n",
      "30%       0.000\n",
      "40%       0.000\n",
      "50%      30.500\n",
      "60%      72.200\n",
      "70%     106.000\n",
      "80%     150.000\n",
      "90%     210.000\n",
      "95%     293.000\n",
      "99%     519.900\n",
      "max     846.000\n",
      "Name: Insulin, dtype: float64\n"
     ]
    },
    {
     "data": {
      "image/png": "[encoded data removed]",
      "text/plain": [
       "<Figure size 432x288 with 1 Axes>"
      ]
     },
     "metadata": {
      "needs_background": "light"
     },
     "output_type": "display_data"
    },
    {
     "name": "stdout",
     "output_type": "stream",
     "text": [
      "count   768.000\n",
      "mean     31.993\n",
      "std       7.884\n",
      "min       0.000\n",
      "5%       21.800\n",
      "10%      23.600\n",
      "20%      25.900\n",
      "30%      28.200\n",
      "40%      30.100\n",
      "50%      32.000\n",
      "60%      33.700\n",
      "70%      35.490\n",
      "80%      37.800\n",
      "90%      41.500\n",
      "95%      44.395\n",
      "99%      50.759\n",
      "max      67.100\n",
      "Name: BMI, dtype: float64\n"
     ]
    },
    {
     "data": {
      "image/png": "[encoded data removed]",
      "text/plain": [
       "<Figure size 432x288 with 1 Axes>"
      ]
     },
     "metadata": {
      "needs_background": "light"
     },
     "output_type": "display_data"
    },
    {
     "name": "stdout",
     "output_type": "stream",
     "text": [
      "count   768.000\n",
      "mean      0.472\n",
      "std       0.331\n",
      "min       0.078\n",
      "5%        0.140\n",
      "10%       0.165\n",
      "20%       0.219\n",
      "30%       0.259\n",
      "40%       0.303\n",
      "50%       0.372\n",
      "60%       0.454\n",
      "70%       0.564\n",
      "80%       0.687\n",
      "90%       0.879\n",
      "95%       1.133\n",
      "99%       1.698\n",
      "max       2.420\n",
      "Name: DiabetesPedigreeFunction, dtype: float64\n"
     ]
    },
    {
     "data": {
      "image/png": "[encoded data removed]",
      "text/plain": [
       "<Figure size 432x288 with 1 Axes>"
      ]
     },
     "metadata": {
      "needs_background": "light"
     },
     "output_type": "display_data"
    },
    {
     "name": "stdout",
     "output_type": "stream",
     "text": [
      "count   768.000\n",
      "mean     33.241\n",
      "std      11.760\n",
      "min      21.000\n",
      "5%       21.000\n",
      "10%      22.000\n",
      "20%      23.000\n",
      "30%      25.000\n",
      "40%      27.000\n",
      "50%      29.000\n",
      "60%      33.000\n",
      "70%      38.000\n",
      "80%      42.600\n",
      "90%      51.000\n",
      "95%      58.000\n",
      "99%      67.000\n",
      "max      81.000\n",
      "Name: Age, dtype: float64\n"
     ]
    },
    {
     "data": {
      "image/png": "[encoded data removed]",
      "text/plain": [
       "<Figure size 432x288 with 1 Axes>"
      ]
     },
     "metadata": {
      "needs_background": "light"
     },
     "output_type": "display_data"
    }
   ],
   "source": [
    "# Analysis of Numerical Variables\n",
    "for col in num_cols:\n",
    "     num_summary(df, col, plot=True)"
   ]
  },
  {
   "cell_type": "code",
   "execution_count": 8,
   "id": "08836ed9",
   "metadata": {
    "execution": {
     "iopub.execute_input": "2021-07-28T14:39:38.198532Z",
     "iopub.status.busy": "2021-07-28T14:39:38.194859Z",
     "iopub.status.idle": "2021-07-28T14:39:38.212881Z",
     "shell.execute_reply": "2021-07-28T14:39:38.212387Z",
     "shell.execute_reply.started": "2021-07-28T14:37:03.389170Z"
    },
    "papermill": {
     "duration": 0.073153,
     "end_time": "2021-07-28T14:39:38.213023",
     "exception": false,
     "start_time": "2021-07-28T14:39:38.139870",
     "status": "completed"
    },
    "tags": []
   },
   "outputs": [
    {
     "name": "stdout",
     "output_type": "stream",
     "text": [
      "         Pregnancies\n",
      "Outcome             \n",
      "0              3.298\n",
      "1              4.866\n",
      "\n",
      "\n",
      "         Glucose\n",
      "Outcome         \n",
      "0        109.980\n",
      "1        141.257\n",
      "\n",
      "\n",
      "         BloodPressure\n",
      "Outcome               \n",
      "0               68.184\n",
      "1               70.825\n",
      "\n",
      "\n",
      "         SkinThickness\n",
      "Outcome               \n",
      "0               19.664\n",
      "1               22.164\n",
      "\n",
      "\n",
      "         Insulin\n",
      "Outcome         \n",
      "0         68.792\n",
      "1        100.336\n",
      "\n",
      "\n",
      "           BMI\n",
      "Outcome       \n",
      "0       30.304\n",
      "1       35.143\n",
      "\n",
      "\n",
      "         DiabetesPedigreeFunction\n",
      "Outcome                          \n",
      "0                           0.430\n",
      "1                           0.550\n",
      "\n",
      "\n",
      "           Age\n",
      "Outcome       \n",
      "0       31.190\n",
      "1       37.067\n",
      "\n",
      "\n"
     ]
    }
   ],
   "source": [
    "# Analysis of Numerical Variables Based on Target\n",
    "for col in num_cols:\n",
    "     target_summary_with_num(df, \"Outcome\", col)"
   ]
  },
  {
   "cell_type": "code",
   "execution_count": 9,
   "id": "50c3d1d6",
   "metadata": {
    "execution": {
     "iopub.execute_input": "2021-07-28T14:39:38.285190Z",
     "iopub.status.busy": "2021-07-28T14:39:38.284545Z",
     "iopub.status.idle": "2021-07-28T14:39:38.300160Z",
     "shell.execute_reply": "2021-07-28T14:39:38.299656Z",
     "shell.execute_reply.started": "2021-07-28T14:37:06.762987Z"
    },
    "papermill": {
     "duration": 0.054072,
     "end_time": "2021-07-28T14:39:38.300301",
     "exception": false,
     "start_time": "2021-07-28T14:39:38.246229",
     "status": "completed"
    },
    "tags": []
   },
   "outputs": [
    {
     "data": {
      "text/html": [
       "<div>\n",
       "<style scoped>\n",
       "    .dataframe tbody tr th:only-of-type {\n",
       "        vertical-align: middle;\n",
       "    }\n",
       "\n",
       "    .dataframe tbody tr th {\n",
       "        vertical-align: top;\n",
       "    }\n",
       "\n",
       "    .dataframe thead th {\n",
       "        text-align: right;\n",
       "    }\n",
       "</style>\n",
       "<table border=\"1\" class=\"dataframe\">\n",
       "  <thead>\n",
       "    <tr style=\"text-align: right;\">\n",
       "      <th></th>\n",
       "      <th>Pregnancies</th>\n",
       "      <th>Glucose</th>\n",
       "      <th>BloodPressure</th>\n",
       "      <th>SkinThickness</th>\n",
       "      <th>Insulin</th>\n",
       "      <th>BMI</th>\n",
       "      <th>DiabetesPedigreeFunction</th>\n",
       "      <th>Age</th>\n",
       "      <th>Outcome</th>\n",
       "    </tr>\n",
       "  </thead>\n",
       "  <tbody>\n",
       "    <tr>\n",
       "      <th>Pregnancies</th>\n",
       "      <td>1.000</td>\n",
       "      <td>0.129</td>\n",
       "      <td>0.141</td>\n",
       "      <td>-0.082</td>\n",
       "      <td>-0.074</td>\n",
       "      <td>0.018</td>\n",
       "      <td>-0.034</td>\n",
       "      <td>0.544</td>\n",
       "      <td>0.222</td>\n",
       "    </tr>\n",
       "    <tr>\n",
       "      <th>Glucose</th>\n",
       "      <td>0.129</td>\n",
       "      <td>1.000</td>\n",
       "      <td>0.153</td>\n",
       "      <td>0.057</td>\n",
       "      <td>0.331</td>\n",
       "      <td>0.221</td>\n",
       "      <td>0.137</td>\n",
       "      <td>0.264</td>\n",
       "      <td>0.467</td>\n",
       "    </tr>\n",
       "    <tr>\n",
       "      <th>BloodPressure</th>\n",
       "      <td>0.141</td>\n",
       "      <td>0.153</td>\n",
       "      <td>1.000</td>\n",
       "      <td>0.207</td>\n",
       "      <td>0.089</td>\n",
       "      <td>0.282</td>\n",
       "      <td>0.041</td>\n",
       "      <td>0.240</td>\n",
       "      <td>0.065</td>\n",
       "    </tr>\n",
       "    <tr>\n",
       "      <th>SkinThickness</th>\n",
       "      <td>-0.082</td>\n",
       "      <td>0.057</td>\n",
       "      <td>0.207</td>\n",
       "      <td>1.000</td>\n",
       "      <td>0.437</td>\n",
       "      <td>0.393</td>\n",
       "      <td>0.184</td>\n",
       "      <td>-0.114</td>\n",
       "      <td>0.075</td>\n",
       "    </tr>\n",
       "    <tr>\n",
       "      <th>Insulin</th>\n",
       "      <td>-0.074</td>\n",
       "      <td>0.331</td>\n",
       "      <td>0.089</td>\n",
       "      <td>0.437</td>\n",
       "      <td>1.000</td>\n",
       "      <td>0.198</td>\n",
       "      <td>0.185</td>\n",
       "      <td>-0.042</td>\n",
       "      <td>0.131</td>\n",
       "    </tr>\n",
       "    <tr>\n",
       "      <th>BMI</th>\n",
       "      <td>0.018</td>\n",
       "      <td>0.221</td>\n",
       "      <td>0.282</td>\n",
       "      <td>0.393</td>\n",
       "      <td>0.198</td>\n",
       "      <td>1.000</td>\n",
       "      <td>0.141</td>\n",
       "      <td>0.036</td>\n",
       "      <td>0.293</td>\n",
       "    </tr>\n",
       "    <tr>\n",
       "      <th>DiabetesPedigreeFunction</th>\n",
       "      <td>-0.034</td>\n",
       "      <td>0.137</td>\n",
       "      <td>0.041</td>\n",
       "      <td>0.184</td>\n",
       "      <td>0.185</td>\n",
       "      <td>0.141</td>\n",
       "      <td>1.000</td>\n",
       "      <td>0.034</td>\n",
       "      <td>0.174</td>\n",
       "    </tr>\n",
       "    <tr>\n",
       "      <th>Age</th>\n",
       "      <td>0.544</td>\n",
       "      <td>0.264</td>\n",
       "      <td>0.240</td>\n",
       "      <td>-0.114</td>\n",
       "      <td>-0.042</td>\n",
       "      <td>0.036</td>\n",
       "      <td>0.034</td>\n",
       "      <td>1.000</td>\n",
       "      <td>0.238</td>\n",
       "    </tr>\n",
       "    <tr>\n",
       "      <th>Outcome</th>\n",
       "      <td>0.222</td>\n",
       "      <td>0.467</td>\n",
       "      <td>0.065</td>\n",
       "      <td>0.075</td>\n",
       "      <td>0.131</td>\n",
       "      <td>0.293</td>\n",
       "      <td>0.174</td>\n",
       "      <td>0.238</td>\n",
       "      <td>1.000</td>\n",
       "    </tr>\n",
       "  </tbody>\n",
       "</table>\n",
       "</div>"
      ],
      "text/plain": [
       "                          Pregnancies  Glucose  BloodPressure  SkinThickness  Insulin   BMI  DiabetesPedigreeFunction    Age  Outcome\n",
       "Pregnancies                     1.000    0.129          0.141         -0.082   -0.074 0.018                    -0.034  0.544    0.222\n",
       "Glucose                         0.129    1.000          0.153          0.057    0.331 0.221                     0.137  0.264    0.467\n",
       "BloodPressure                   0.141    0.153          1.000          0.207    0.089 0.282                     0.041  0.240    0.065\n",
       "SkinThickness                  -0.082    0.057          0.207          1.000    0.437 0.393                     0.184 -0.114    0.075\n",
       "Insulin                        -0.074    0.331          0.089          0.437    1.000 0.198                     0.185 -0.042    0.131\n",
       "BMI                             0.018    0.221          0.282          0.393    0.198 1.000                     0.141  0.036    0.293\n",
       "DiabetesPedigreeFunction       -0.034    0.137          0.041          0.184    0.185 0.141                     1.000  0.034    0.174\n",
       "Age                             0.544    0.264          0.240         -0.114   -0.042 0.036                     0.034  1.000    0.238\n",
       "Outcome                         0.222    0.467          0.065          0.075    0.131 0.293                     0.174  0.238    1.000"
      ]
     },
     "execution_count": 9,
     "metadata": {},
     "output_type": "execute_result"
    }
   ],
   "source": [
    "# Examining Correlations\n",
    "df.corr()"
   ]
  },
  {
   "cell_type": "code",
   "execution_count": 10,
   "id": "2a75fcde",
   "metadata": {
    "execution": {
     "iopub.execute_input": "2021-07-28T14:39:38.388412Z",
     "iopub.status.busy": "2021-07-28T14:39:38.387816Z",
     "iopub.status.idle": "2021-07-28T14:39:39.012353Z",
     "shell.execute_reply": "2021-07-28T14:39:39.012813Z",
     "shell.execute_reply.started": "2021-07-28T14:37:09.389074Z"
    },
    "papermill": {
     "duration": 0.679056,
     "end_time": "2021-07-28T14:39:39.012987",
     "exception": false,
     "start_time": "2021-07-28T14:39:38.333931",
     "status": "completed"
    },
    "tags": []
   },
   "outputs": [
    {
     "data": {
      "image/png": "[encoded data removed]",
      "text/plain": [
       "<Figure size 1440x1080 with 2 Axes>"
      ]
     },
     "metadata": {
      "needs_background": "light"
     },
     "output_type": "display_data"
    }
   ],
   "source": [
    "# Correlation Matrix\n",
    "f, ax = plt.subplots(figsize=[20, 15])\n",
    "sns.heatmap(df.corr(), annot=True, fmt=\".2f\", ax=ax, cmap=\"magma\")\n",
    "ax.set_title(\"Correlation Matrix\", fontsize=20)\n",
    "plt.show()"
   ]
  },
  {
   "cell_type": "code",
   "execution_count": 11,
   "id": "c9a45dc8",
   "metadata": {
    "execution": {
     "iopub.execute_input": "2021-07-28T14:39:39.087248Z",
     "iopub.status.busy": "2021-07-28T14:39:39.086370Z",
     "iopub.status.idle": "2021-07-28T14:39:39.176971Z",
     "shell.execute_reply": "2021-07-28T14:39:39.177378Z",
     "shell.execute_reply.started": "2021-07-28T14:37:13.882701Z"
    },
    "papermill": {
     "duration": 0.129163,
     "end_time": "2021-07-28T14:39:39.177546",
     "exception": false,
     "start_time": "2021-07-28T14:39:39.048383",
     "status": "completed"
    },
    "tags": []
   },
   "outputs": [
    {
     "data": {
      "image/png": "[encoded data removed]",
      "text/plain": [
       "<Figure size 432x288 with 1 Axes>"
      ]
     },
     "metadata": {
      "needs_background": "light"
     },
     "output_type": "display_data"
    }
   ],
   "source": [
    "# Distribution of Dependent Variable\n",
    "sns.countplot('Outcome', data=df)\n",
    "plt.show()"
   ]
  },
  {
   "cell_type": "markdown",
   "id": "b95e2d76",
   "metadata": {
    "papermill": {
     "duration": 0.035452,
     "end_time": "2021-07-28T14:39:39.248929",
     "exception": false,
     "start_time": "2021-07-28T14:39:39.213477",
     "status": "completed"
    },
    "tags": []
   },
   "source": [
    "# Data Preprocessing"
   ]
  },
  {
   "cell_type": "code",
   "execution_count": 12,
   "id": "8d764bb4",
   "metadata": {
    "execution": {
     "iopub.execute_input": "2021-07-28T14:39:39.323797Z",
     "iopub.status.busy": "2021-07-28T14:39:39.322844Z",
     "iopub.status.idle": "2021-07-28T14:39:39.475144Z",
     "shell.execute_reply": "2021-07-28T14:39:39.475565Z",
     "shell.execute_reply.started": "2021-07-28T14:23:43.939098Z"
    },
    "jupyter": {
     "source_hidden": true
    },
    "papermill": {
     "duration": 0.191133,
     "end_time": "2021-07-28T14:39:39.475738",
     "exception": false,
     "start_time": "2021-07-28T14:39:39.284605",
     "status": "completed"
    },
    "tags": []
   },
   "outputs": [],
   "source": [
    "def outlier_thresholds(dataframe, col_name, q1=0.25, q3=0.75):\n",
    "    quartile1 = dataframe[col_name].quantile(q1)\n",
    "    quartile3 = dataframe[col_name].quantile(q3)\n",
    "    interquantile_range = quartile3 - quartile1\n",
    "    up_limit = quartile3 + 1.5 * interquantile_range\n",
    "    low_limit = quartile1 - 1.5 * interquantile_range\n",
    "    return low_limit, up_limit\n",
    "\n",
    "\n",
    "def replace_with_thresholds(dataframe, variable):\n",
    "    low_limit, up_limit = outlier_thresholds(dataframe, variable)\n",
    "    dataframe.loc[(dataframe[variable] < low_limit), variable] = low_limit\n",
    "    dataframe.loc[(dataframe[variable] > up_limit), variable] = up_limit\n",
    "\n",
    "\n",
    "def check_outlier(dataframe, col_name, q1=0.25, q3=0.75):\n",
    "    low_limit, up_limit = outlier_thresholds(dataframe, col_name, q1, q3)\n",
    "    if dataframe[(dataframe[col_name] > up_limit) | (dataframe[col_name] < low_limit)].any(axis=None):\n",
    "        return True\n",
    "    else:\n",
    "        return False\n",
    "\n",
    "\n",
    "def grab_outliers(dataframe, col_name, index=False):\n",
    "    low, up = outlier_thresholds(dataframe, col_name)\n",
    "    if dataframe[((dataframe[col_name] < low) | (dataframe[col_name] > up))].shape[0] > 10:\n",
    "        print(dataframe[((dataframe[col_name] < low) | (dataframe[col_name] > up))].head())\n",
    "    else:\n",
    "        print(dataframe[((dataframe[col_name] < low) | (dataframe[col_name] > up))])\n",
    "\n",
    "    if index:\n",
    "        outlier_index = dataframe[((dataframe[col_name] < low) | (dataframe[col_name] > up))].index\n",
    "        return outlier_index\n",
    "\n",
    "\n",
    "def remove_outlier(dataframe, col_name):\n",
    "    low_limit, up_limit = outlier_thresholds(dataframe, col_name)\n",
    "    df_without_outliers = dataframe[~((dataframe[col_name] < low_limit) | (dataframe[col_name] > up_limit))]\n",
    "    return df_without_outliers\n",
    "\n",
    "\n",
    "def missing_values_table(dataframe, na_name=False):\n",
    "    na_columns = [col for col in dataframe.columns if dataframe[col].isnull().sum() > 0]\n",
    "    n_miss = dataframe[na_columns].isnull().sum().sort_values(ascending=False)\n",
    "    ratio = (dataframe[na_columns].isnull().sum() / dataframe.shape[0] * 100).sort_values(ascending=False)\n",
    "    missing_df = pd.concat([n_miss, np.round(ratio, 2)], axis=1, keys=['n_miss', 'ratio'])\n",
    "    print(missing_df, end=\"\\n\")\n",
    "    if na_name:\n",
    "        return na_columns\n",
    "\n",
    "\n",
    "def missing_vs_target(dataframe, target, na_columns):\n",
    "    temp_df = dataframe.copy()\n",
    "    for col in na_columns:\n",
    "        temp_df[col + '_NA_FLAG'] = np.where(temp_df[col].isnull(), 1, 0)\n",
    "    na_flags = temp_df.loc[:, temp_df.columns.str.contains(\"_NA_\")].columns\n",
    "    for col in na_flags:\n",
    "        print(pd.DataFrame({\"TARGET_MEAN\": temp_df.groupby(col)[target].mean(),\n",
    "                            \"Count\": temp_df.groupby(col)[target].count()}), end=\"\\n\\n\\n\")\n",
    "\n",
    "\n",
    "def label_encoder(dataframe, binary_col):\n",
    "    labelencoder = LabelEncoder()\n",
    "    dataframe[binary_col] = labelencoder.fit_transform(dataframe[binary_col])\n",
    "    return dataframe\n",
    "\n",
    "\n",
    "def one_hot_encoder(dataframe, categorical_cols, drop_first=False):\n",
    "    dataframe = pd.get_dummies(dataframe, columns=categorical_cols, drop_first=drop_first)\n",
    "    return dataframe\n",
    "\n",
    "\n",
    "def rare_analyser(dataframe, target, cat_cols):\n",
    "    for col in cat_cols:\n",
    "        print(col, \":\", len(dataframe[col].value_counts()))\n",
    "        print(pd.DataFrame({\"COUNT\": dataframe[col].value_counts(),\n",
    "                            \"RATIO\": dataframe[col].value_counts() / len(dataframe),\n",
    "                            \"TARGET_MEAN\": dataframe.groupby(col)[target].mean()}), end=\"\\n\\n\\n\")\n",
    "\n",
    "\n",
    "def rare_encoder(dataframe, rare_perc, cat_cols):\n",
    "    rare_columns = [ col for col in cat_cols if (dataframe[col].value_counts() / len(dataframe) < 0.01).sum() > 1]\n",
    "    for col in rare_columns:\n",
    "        tmp = dataframe[col].value_counts() / len(dataframe)\n",
    "        rare_labels = tmp[tmp < rare_perc].index\n",
    "        dataframe[col] = np.where(dataframe[col].isin(rare_labels), 'Rare', dataframe[col])\n",
    "    return dataframe"
   ]
  },
  {
   "cell_type": "markdown",
   "id": "235a4581",
   "metadata": {
    "papermill": {
     "duration": 0.035518,
     "end_time": "2021-07-28T14:39:39.546933",
     "exception": false,
     "start_time": "2021-07-28T14:39:39.511415",
     "status": "completed"
    },
    "tags": []
   },
   "source": [
    "* It is known that variable values other than Pregnancies and Outcome cannot be 0 in a human.\n",
    "* Therefore, an action decision should be taken regarding these values. Values that are 0 can be assigned NaN."
   ]
  },
  {
   "cell_type": "code",
   "execution_count": 13,
   "id": "6efe0d6b",
   "metadata": {
    "execution": {
     "iopub.execute_input": "2021-07-28T14:39:39.621695Z",
     "iopub.status.busy": "2021-07-28T14:39:39.620825Z",
     "iopub.status.idle": "2021-07-28T14:39:39.628489Z",
     "shell.execute_reply": "2021-07-28T14:39:39.628911Z",
     "shell.execute_reply.started": "2021-07-28T14:37:16.515297Z"
    },
    "papermill": {
     "duration": 0.046474,
     "end_time": "2021-07-28T14:39:39.629078",
     "exception": false,
     "start_time": "2021-07-28T14:39:39.582604",
     "status": "completed"
    },
    "tags": []
   },
   "outputs": [],
   "source": [
    "zero_columns = [col for col in df.columns if (df[col].min() == 0 and col not in [\"Pregnancies\", \"Outcome\"])]\n",
    "\n",
    "# We went to each of the stored variables and recorded the observation values containing 0 as 0\n",
    "for col in zero_columns:\n",
    "     df[col] = np.where(df[col] == 0, np.nan, df[col])"
   ]
  },
  {
   "cell_type": "code",
   "execution_count": 14,
   "id": "1f1e0cdc",
   "metadata": {
    "execution": {
     "iopub.execute_input": "2021-07-28T14:39:39.703876Z",
     "iopub.status.busy": "2021-07-28T14:39:39.702947Z",
     "iopub.status.idle": "2021-07-28T14:39:39.711505Z",
     "shell.execute_reply": "2021-07-28T14:39:39.711001Z",
     "shell.execute_reply.started": "2021-07-28T14:37:18.754344Z"
    },
    "papermill": {
     "duration": 0.046919,
     "end_time": "2021-07-28T14:39:39.711639",
     "exception": false,
     "start_time": "2021-07-28T14:39:39.664720",
     "status": "completed"
    },
    "tags": []
   },
   "outputs": [
    {
     "data": {
      "text/plain": [
       "Pregnancies                   0\n",
       "Glucose                       5\n",
       "BloodPressure                35\n",
       "SkinThickness               227\n",
       "Insulin                     374\n",
       "BMI                          11\n",
       "DiabetesPedigreeFunction      0\n",
       "Age                           0\n",
       "Outcome                       0\n",
       "dtype: int64"
      ]
     },
     "execution_count": 14,
     "metadata": {},
     "output_type": "execute_result"
    }
   ],
   "source": [
    "# Missing Observation Query\n",
    "df.isnull().sum()"
   ]
  },
  {
   "cell_type": "code",
   "execution_count": 15,
   "id": "3d53f76c",
   "metadata": {
    "execution": {
     "iopub.execute_input": "2021-07-28T14:39:39.786640Z",
     "iopub.status.busy": "2021-07-28T14:39:39.786096Z",
     "iopub.status.idle": "2021-07-28T14:39:39.823121Z",
     "shell.execute_reply": "2021-07-28T14:39:39.823593Z",
     "shell.execute_reply.started": "2021-07-28T14:37:21.521271Z"
    },
    "papermill": {
     "duration": 0.07627,
     "end_time": "2021-07-28T14:39:39.823798",
     "exception": false,
     "start_time": "2021-07-28T14:39:39.747528",
     "status": "completed"
    },
    "tags": []
   },
   "outputs": [
    {
     "name": "stdout",
     "output_type": "stream",
     "text": [
      "               n_miss  ratio\n",
      "Insulin           374 48.700\n",
      "SkinThickness     227 29.560\n",
      "BloodPressure      35  4.560\n",
      "BMI                11  1.430\n",
      "Glucose             5  0.650\n",
      "                 TARGET_MEAN  Count\n",
      "Glucose_NA_FLAG                    \n",
      "0                      0.349    763\n",
      "1                      0.400      5\n",
      "\n",
      "\n",
      "                       TARGET_MEAN  Count\n",
      "BloodPressure_NA_FLAG                    \n",
      "0                            0.344    733\n",
      "1                            0.457     35\n",
      "\n",
      "\n",
      "                       TARGET_MEAN  Count\n",
      "SkinThickness_NA_FLAG                    \n",
      "0                            0.333    541\n",
      "1                            0.388    227\n",
      "\n",
      "\n",
      "                 TARGET_MEAN  Count\n",
      "Insulin_NA_FLAG                    \n",
      "0                      0.330    394\n",
      "1                      0.369    374\n",
      "\n",
      "\n",
      "             TARGET_MEAN  Count\n",
      "BMI_NA_FLAG                    \n",
      "0                  0.351    757\n",
      "1                  0.182     11\n",
      "\n",
      "\n"
     ]
    }
   ],
   "source": [
    "na_columns = missing_values_table(df, na_name=True)\n",
    "\n",
    "missing_vs_target(df, \"Outcome\", na_columns)"
   ]
  },
  {
   "cell_type": "code",
   "execution_count": 16,
   "id": "49fc4b1b",
   "metadata": {
    "execution": {
     "iopub.execute_input": "2021-07-28T14:39:39.900038Z",
     "iopub.status.busy": "2021-07-28T14:39:39.899444Z",
     "iopub.status.idle": "2021-07-28T14:39:39.972070Z",
     "shell.execute_reply": "2021-07-28T14:39:39.971352Z",
     "shell.execute_reply.started": "2021-07-28T14:37:29.967859Z"
    },
    "papermill": {
     "duration": 0.11192,
     "end_time": "2021-07-28T14:39:39.972274",
     "exception": false,
     "start_time": "2021-07-28T14:39:39.860354",
     "status": "completed"
    },
    "tags": []
   },
   "outputs": [
    {
     "data": {
      "text/plain": [
       "Pregnancies                 0\n",
       "Glucose                     0\n",
       "BloodPressure               0\n",
       "SkinThickness               0\n",
       "Insulin                     0\n",
       "BMI                         0\n",
       "DiabetesPedigreeFunction    0\n",
       "Age                         0\n",
       "Outcome                     0\n",
       "dtype: int64"
      ]
     },
     "execution_count": 16,
     "metadata": {},
     "output_type": "execute_result"
    }
   ],
   "source": [
    "# Filling the Missing Observations in Categorical Variable Breakdown\n",
    "def median_target(col):\n",
    "     temp = df[df[col].notnull()]\n",
    "     temp = temp[[col, 'Outcome']].groupby(['Outcome'])[[col]].median().reset_index()\n",
    "     return temp\n",
    "\n",
    "for col in zero_columns:\n",
    "     df.loc[(df['Outcome'] == 0) & (df[col].isnull()), col] = median_target(col)[col][0]\n",
    "     df.loc[(df['Outcome'] == 1) & (df[col].isnull()), col] = median_target(col)[col][1]\n",
    "\n",
    "df.isnull().sum()"
   ]
  },
  {
   "cell_type": "code",
   "execution_count": 17,
   "id": "ad3b8f59",
   "metadata": {
    "execution": {
     "iopub.execute_input": "2021-07-28T14:39:40.071154Z",
     "iopub.status.busy": "2021-07-28T14:39:40.070112Z",
     "iopub.status.idle": "2021-07-28T14:39:40.142975Z",
     "shell.execute_reply": "2021-07-28T14:39:40.142481Z",
     "shell.execute_reply.started": "2021-07-28T14:37:32.661048Z"
    },
    "papermill": {
     "duration": 0.119113,
     "end_time": "2021-07-28T14:39:40.143106",
     "exception": false,
     "start_time": "2021-07-28T14:39:40.023993",
     "status": "completed"
    },
    "tags": []
   },
   "outputs": [
    {
     "name": "stdout",
     "output_type": "stream",
     "text": [
      "Pregnancies True\n",
      "Glucose False\n",
      "BloodPressure True\n",
      "SkinThickness True\n",
      "Insulin True\n",
      "BMI True\n",
      "DiabetesPedigreeFunction True\n",
      "Age True\n",
      "Outcome False\n"
     ]
    }
   ],
   "source": [
    "# Outlier Analysis and Suppression Process\n",
    "for col in df.columns:\n",
    "     print(col, check_outlier(df, col))\n",
    "     if check_outlier(df, col):\n",
    "         replace_with_thresholds(df, col)\n"
   ]
  },
  {
   "cell_type": "code",
   "execution_count": 18,
   "id": "bb1717a8",
   "metadata": {
    "execution": {
     "iopub.execute_input": "2021-07-28T14:39:40.228656Z",
     "iopub.status.busy": "2021-07-28T14:39:40.228042Z",
     "iopub.status.idle": "2021-07-28T14:39:40.238648Z",
     "shell.execute_reply": "2021-07-28T14:39:40.239086Z",
     "shell.execute_reply.started": "2021-07-28T14:37:35.027805Z"
    },
    "papermill": {
     "duration": 0.05935,
     "end_time": "2021-07-28T14:39:40.239256",
     "exception": false,
     "start_time": "2021-07-28T14:39:40.179906",
     "status": "completed"
    },
    "tags": []
   },
   "outputs": [
    {
     "name": "stdout",
     "output_type": "stream",
     "text": [
      "##################### Shape #####################\n",
      "(768, 9)\n",
      "##################### Types #####################\n",
      "Pregnancies                 float64\n",
      "Glucose                     float64\n",
      "BloodPressure               float64\n",
      "SkinThickness               float64\n",
      "Insulin                     float64\n",
      "BMI                         float64\n",
      "DiabetesPedigreeFunction    float64\n",
      "Age                         float64\n",
      "Outcome                       int64\n",
      "dtype: object\n",
      "##################### Head #####################\n",
      "   Pregnancies  Glucose  BloodPressure  SkinThickness  Insulin    BMI  DiabetesPedigreeFunction    Age  Outcome\n",
      "0        6.000  148.000         72.000         35.000  169.500 33.600                     0.627 50.000        1\n",
      "1        1.000   85.000         66.000         29.000  102.500 26.600                     0.351 31.000        0\n",
      "2        8.000  183.000         64.000         32.000  169.500 23.300                     0.672 32.000        1\n",
      "3        1.000   89.000         66.000         23.000   94.000 28.100                     0.167 21.000        0\n",
      "4        0.000  137.000         40.000         35.000  168.000 43.100                     1.200 33.000        1\n",
      "##################### Tail #####################\n",
      "     Pregnancies  Glucose  BloodPressure  SkinThickness  Insulin    BMI  DiabetesPedigreeFunction    Age  Outcome\n",
      "763       10.000  101.000         76.000         42.500  180.000 32.900                     0.171 63.000        0\n",
      "764        2.000  122.000         70.000         27.000  102.500 36.800                     0.340 27.000        0\n",
      "765        5.000  121.000         72.000         23.000  112.000 26.200                     0.245 30.000        0\n",
      "766        1.000  126.000         60.000         32.000  169.500 30.100                     0.349 47.000        1\n",
      "767        1.000   93.000         70.000         31.000  102.500 30.400                     0.315 23.000        0\n",
      "##################### NA #####################\n",
      "Pregnancies                 0\n",
      "Glucose                     0\n",
      "BloodPressure               0\n",
      "SkinThickness               0\n",
      "Insulin                     0\n",
      "BMI                         0\n",
      "DiabetesPedigreeFunction    0\n",
      "Age                         0\n",
      "Outcome                     0\n",
      "dtype: int64\n",
      "##################### Quantiles #####################\n",
      "                          0.000  0.050   0.500   0.950   0.990   1.000\n",
      "Pregnancies               0.000  0.000   3.000  10.000  13.000  13.500\n",
      "Glucose                  44.000 80.000 117.000 181.000 196.000 199.000\n",
      "BloodPressure            40.000 52.000  72.000  90.000 104.000 104.000\n",
      "SkinThickness            14.500 14.675  28.000  42.500  42.500  42.500\n",
      "Insulin                  14.000 50.000 102.500 270.000 270.000 270.000\n",
      "BMI                      18.200 22.235  32.050  44.395  50.083  50.250\n",
      "DiabetesPedigreeFunction  0.078  0.140   0.372   1.133   1.200   1.200\n",
      "Age                      21.000 21.000  29.000  58.000  66.500  66.500\n",
      "Outcome                   0.000  0.000   0.000   1.000   1.000   1.000\n"
     ]
    }
   ],
   "source": [
    "check_df(df)"
   ]
  },
  {
   "cell_type": "markdown",
   "id": "5fcdfe98",
   "metadata": {
    "papermill": {
     "duration": 0.037185,
     "end_time": "2021-07-28T14:39:40.313953",
     "exception": false,
     "start_time": "2021-07-28T14:39:40.276768",
     "status": "completed"
    },
    "tags": []
   },
   "source": [
    "# Feature Engineering"
   ]
  },
  {
   "cell_type": "code",
   "execution_count": 19,
   "id": "145e9d7f",
   "metadata": {
    "execution": {
     "iopub.execute_input": "2021-07-28T14:39:40.419623Z",
     "iopub.status.busy": "2021-07-28T14:39:40.405774Z",
     "iopub.status.idle": "2021-07-28T14:39:40.470859Z",
     "shell.execute_reply": "2021-07-28T14:39:40.471552Z",
     "shell.execute_reply.started": "2021-07-28T14:37:39.468574Z"
    },
    "papermill": {
     "duration": 0.120601,
     "end_time": "2021-07-28T14:39:40.471792",
     "exception": false,
     "start_time": "2021-07-28T14:39:40.351191",
     "status": "completed"
    },
    "tags": []
   },
   "outputs": [
    {
     "name": "stdout",
     "output_type": "stream",
     "text": [
      "##################### Shape #####################\n",
      "(768, 15)\n",
      "##################### Types #####################\n",
      "PREGNANCIES                  float64\n",
      "GLUCOSE                      float64\n",
      "BLOODPRESSURE                float64\n",
      "SKINTHICKNESS                float64\n",
      "INSULIN                      float64\n",
      "BMI                          float64\n",
      "DIABETESPEDIGREEFUNCTION     float64\n",
      "AGE                          float64\n",
      "OUTCOME                        int64\n",
      "NEW_AGE_CAT                   object\n",
      "NEW_BMI                     category\n",
      "NEW_GLUCOSE                 category\n",
      "NEW_AGE_BMI_NOM               object\n",
      "NEW_AGE_GLUCOSE_NOM           object\n",
      "NEW_INSULIN_SCORE             object\n",
      "dtype: object\n",
      "##################### Head #####################\n",
      "   PREGNANCIES  GLUCOSE  BLOODPRESSURE  SKINTHICKNESS  INSULIN    BMI  DIABETESPEDIGREEFUNCTION    AGE  OUTCOME NEW_AGE_CAT     NEW_BMI  NEW_GLUCOSE NEW_AGE_BMI_NOM  \\\n",
      "0        6.000  148.000         72.000         35.000  169.500 33.600                     0.627 50.000        1      senior       Obese  Prediabetes     obesesenior   \n",
      "1        1.000   85.000         66.000         29.000  102.500 26.600                     0.351 31.000        0      mature  Overweight       Normal     obesemature   \n",
      "2        8.000  183.000         64.000         32.000  169.500 23.300                     0.672 32.000        1      mature     Healthy  Prediabetes     obesemature   \n",
      "3        1.000   89.000         66.000         23.000   94.000 28.100                     0.167 21.000        0      mature  Overweight       Normal     obesemature   \n",
      "4        0.000  137.000         40.000         35.000  168.000 43.100                     1.200 33.000        1      mature       Obese       Normal     obesemature   \n",
      "\n",
      "  NEW_AGE_GLUCOSE_NOM NEW_INSULIN_SCORE  \n",
      "0          highsenior          Abnormal  \n",
      "1        normalmature            Normal  \n",
      "2          highmature          Abnormal  \n",
      "3        normalmature            Normal  \n",
      "4          highmature          Abnormal  \n",
      "##################### Tail #####################\n",
      "     PREGNANCIES  GLUCOSE  BLOODPRESSURE  SKINTHICKNESS  INSULIN    BMI  DIABETESPEDIGREEFUNCTION    AGE  OUTCOME NEW_AGE_CAT     NEW_BMI NEW_GLUCOSE NEW_AGE_BMI_NOM  \\\n",
      "763       10.000  101.000         76.000         42.500  180.000 32.900                     0.171 63.000        0      senior       Obese      Normal     obesesenior   \n",
      "764        2.000  122.000         70.000         27.000  102.500 36.800                     0.340 27.000        0      mature       Obese      Normal     obesemature   \n",
      "765        5.000  121.000         72.000         23.000  112.000 26.200                     0.245 30.000        0      mature  Overweight      Normal     obesemature   \n",
      "766        1.000  126.000         60.000         32.000  169.500 30.100                     0.349 47.000        1      mature       Obese      Normal     obesemature   \n",
      "767        1.000   93.000         70.000         31.000  102.500 30.400                     0.315 23.000        0      mature       Obese      Normal     obesemature   \n",
      "\n",
      "    NEW_AGE_GLUCOSE_NOM NEW_INSULIN_SCORE  \n",
      "763        hiddensenior          Abnormal  \n",
      "764        hiddenmature            Normal  \n",
      "765        hiddenmature            Normal  \n",
      "766          highmature          Abnormal  \n",
      "767        normalmature            Normal  \n",
      "##################### NA #####################\n",
      "PREGNANCIES                 0\n",
      "GLUCOSE                     0\n",
      "BLOODPRESSURE               0\n",
      "SKINTHICKNESS               0\n",
      "INSULIN                     0\n",
      "BMI                         0\n",
      "DIABETESPEDIGREEFUNCTION    0\n",
      "AGE                         0\n",
      "OUTCOME                     0\n",
      "NEW_AGE_CAT                 0\n",
      "NEW_BMI                     0\n",
      "NEW_GLUCOSE                 0\n",
      "NEW_AGE_BMI_NOM             0\n",
      "NEW_AGE_GLUCOSE_NOM         0\n",
      "NEW_INSULIN_SCORE           0\n",
      "dtype: int64\n",
      "##################### Quantiles #####################\n",
      "                          0.000  0.050   0.500   0.950   0.990   1.000\n",
      "PREGNANCIES               0.000  0.000   3.000  10.000  13.000  13.500\n",
      "GLUCOSE                  44.000 80.000 117.000 181.000 196.000 199.000\n",
      "BLOODPRESSURE            40.000 52.000  72.000  90.000 104.000 104.000\n",
      "SKINTHICKNESS            14.500 14.675  28.000  42.500  42.500  42.500\n",
      "INSULIN                  14.000 50.000 102.500 270.000 270.000 270.000\n",
      "BMI                      18.200 22.235  32.050  44.395  50.083  50.250\n",
      "DIABETESPEDIGREEFUNCTION  0.078  0.140   0.372   1.133   1.200   1.200\n",
      "AGE                      21.000 21.000  29.000  58.000  66.500  66.500\n",
      "OUTCOME                   0.000  0.000   0.000   1.000   1.000   1.000\n"
     ]
    }
   ],
   "source": [
    "# Let's divide the age variable into categories and create a new age variable\n",
    "df.loc[(df[\"Age\"] >= 21) & (df[\"Age\"] < 50), \"NEW_AGE_CAT\"] = \"mature\"\n",
    "df.loc[(df[\"Age\"] >= 50), \"NEW_AGE_CAT\"] = \"senior\"\n",
    "\n",
    "# BMI below 18.5 is underweight, between 18.5 and 24.9 is normal, 30 and above is obese\n",
    "df['NEW_BMI'] = pd.cut(x=df['BMI'], bins=[0, 18.5, 24.9, 29.9, 100],\n",
    "                       labels=[\"Underweight\", \"Healthy\", \"Overweight\", \"Obese\"])\n",
    "\n",
    "# Convert glucose value to categorical variable\n",
    "df[\"NEW_GLUCOSE\"] = pd.cut(x=df[\"Glucose\"], bins=[0, 140, 200, 300], labels=[\"Normal\", \"Prediabetes\", \"Diabetes\"])\n",
    "\n",
    "# Creating a categorical variable by considering age and body mass index together\n",
    "df.loc[(df[\"BMI\"] < 18.5) & ((df[\"Age\"] >= 21) & (df[\"Age\"] < 50)), \"NEW_AGE_BMI_NOM\"] = \"underweightmature\"\n",
    "df.loc[(df[\"BMI\"] < 18.5) & (df[\"Age\"] >= 50), \"NEW_AGE_BMI_NOM\"] = \"underweightsenior\"\n",
    "\n",
    "df.loc[((df[\"BMI\"] >= 18.5) & (df[\"BMI\"] < 25)) & (\n",
    "        (df[\"Age\"] >= 21) & (df[\"Age\"] < 50)), \"NEW_AGE_BMI_NOM\"] = \"healthymature\"\n",
    "df.loc[((df[\"BMI\"] >= 18.5) & (df[\"BMI\"] < 25)) & (df[\"Age\"] >= 50), \"NEW_AGE_BMI_NOM\"] = \"healthysenior\"\n",
    "\n",
    "df.loc[((df[\"BMI\"] >= 25) & (df[\"BMI\"] < 30)) & (\n",
    "        (df[\"Age\"] >= 21) & (df[\"Age\"] < 50)), \"NEW_AGE_BMI_NOM\"] = \"overweightmature\"\n",
    "df.loc[((df[\"BMI\"] >= 25) & (df[\"BMI\"] < 30)) & (df[\"Age\"] >= 50), \"NEW_AGE_BMI_NOM\"] = \"overweightsenior\"\n",
    "\n",
    "df.loc[(df[\"BMI\"] > 18.5) & ((df[\"Age\"] >= 21) & (df[\"Age\"] < 50)), \"NEW_AGE_BMI_NOM\"] = \"obesemature\"\n",
    "df.loc[(df[\"BMI\"] > 18.5) & (df[\"Age\"] >= 50), \"NEW_AGE_BMI_NOM\"] = \"obesesenior\"\n",
    "\n",
    "# Creating a categorical variable by considering age and glucose values ​​together\n",
    "df.loc[(df[\"Glucose\"] < 70) & ((df[\"Age\"] >= 21) & (df[\"Age\"] < 50)), \"NEW_AGE_GLUCOSE_NOM\"] = \"lowmature\"\n",
    "df.loc[(df[\"Glucose\"] < 70) & (df[\"Age\"] >= 50), \"NEW_AGE_GLUCOSE_NOM\"] = \"lowsenior\"\n",
    "\n",
    "df.loc[((df[\"Glucose\"] >= 70) & (df[\"Glucose\"] < 100)) & (\n",
    "        (df[\"Age\"] >= 21) & (df[\"Age\"] < 50)), \"NEW_AGE_GLUCOSE_NOM\"] = \"normalmature\"\n",
    "df.loc[((df[\"Glucose\"] >= 70) & (df[\"Glucose\"] < 100)) & (df[\"Age\"] >= 50), \"NEW_AGE_GLUCOSE_NOM\"] = \"normalsenior\"\n",
    "\n",
    "df.loc[((df[\"Glucose\"] >= 100) & (df[\"Glucose\"] <= 125)) & (\n",
    "        (df[\"Age\"] >= 21) & (df[\"Age\"] < 50)), \"NEW_AGE_GLUCOSE_NOM\"] = \"hiddenmature\"\n",
    "df.loc[((df[\"Glucose\"] >= 100) & (df[\"Glucose\"] <= 125)) & (df[\"Age\"] >= 50), \"NEW_AGE_GLUCOSE_NOM\"] = \"hiddensenior\"\n",
    "\n",
    "df.loc[(df[\"Glucose\"] > 125) & ((df[\"Age\"] >= 21) & (df[\"Age\"] < 50)), \"NEW_AGE_GLUCOSE_NOM\"] = \"highmature\"\n",
    "df.loc[(df[\"Glucose\"] > 125) & (df[\"Age\"] >= 50), \"NEW_AGE_GLUCOSE_NOM\"] = \"highsenior\"\n",
    "\n",
    "\n",
    "# Derive Categorical Variable with Insulin Value\n",
    "def set_insulin(dataframe, col_name=\"Insulin\"):\n",
    "    if 16 <= dataframe[col_name] <= 166:\n",
    "        return \"Normal\"\n",
    "    else:\n",
    "        return \"Abnormal\"\n",
    "\n",
    "\n",
    "df[\"NEW_INSULIN_SCORE\"] = df.apply(set_insulin, axis=1)\n",
    "\n",
    "# Enlarging the columns\n",
    "df.columns = [col.upper() for col in df.columns]\n",
    "\n",
    "check_df(df)"
   ]
  },
  {
   "cell_type": "markdown",
   "id": "0abda0c6",
   "metadata": {
    "papermill": {
     "duration": 0.037905,
     "end_time": "2021-07-28T14:39:40.548495",
     "exception": false,
     "start_time": "2021-07-28T14:39:40.510590",
     "status": "completed"
    },
    "tags": []
   },
   "source": [
    "# Encoding"
   ]
  },
  {
   "cell_type": "code",
   "execution_count": 20,
   "id": "66c23f77",
   "metadata": {
    "execution": {
     "iopub.execute_input": "2021-07-28T14:39:40.629942Z",
     "iopub.status.busy": "2021-07-28T14:39:40.629336Z",
     "iopub.status.idle": "2021-07-28T14:39:40.631950Z",
     "shell.execute_reply": "2021-07-28T14:39:40.632354Z",
     "shell.execute_reply.started": "2021-07-28T14:37:47.629926Z"
    },
    "papermill": {
     "duration": 0.045671,
     "end_time": "2021-07-28T14:39:40.632518",
     "exception": false,
     "start_time": "2021-07-28T14:39:40.586847",
     "status": "completed"
    },
    "tags": []
   },
   "outputs": [],
   "source": [
    "def label_encoder(dataframe, binary_col):\n",
    "    labelencoder = LabelEncoder()\n",
    "    dataframe[binary_col] = labelencoder.fit_transform(dataframe[binary_col])\n",
    "    return dataframe"
   ]
  },
  {
   "cell_type": "code",
   "execution_count": 21,
   "id": "03a8a2fb",
   "metadata": {
    "execution": {
     "iopub.execute_input": "2021-07-28T14:39:40.714728Z",
     "iopub.status.busy": "2021-07-28T14:39:40.713962Z",
     "iopub.status.idle": "2021-07-28T14:39:40.718590Z",
     "shell.execute_reply": "2021-07-28T14:39:40.718106Z",
     "shell.execute_reply.started": "2021-07-28T14:37:49.726598Z"
    },
    "papermill": {
     "duration": 0.047923,
     "end_time": "2021-07-28T14:39:40.718728",
     "exception": false,
     "start_time": "2021-07-28T14:39:40.670805",
     "status": "completed"
    },
    "tags": []
   },
   "outputs": [],
   "source": [
    "# LABEL ENCODING\n",
    "\n",
    "binary_cols = [col for col in df.columns if df[col].dtypes == \"O\" and df[col].nunique() == 2]"
   ]
  },
  {
   "cell_type": "code",
   "execution_count": 22,
   "id": "40e8787f",
   "metadata": {
    "execution": {
     "iopub.execute_input": "2021-07-28T14:39:40.802215Z",
     "iopub.status.busy": "2021-07-28T14:39:40.801477Z",
     "iopub.status.idle": "2021-07-28T14:39:40.804887Z",
     "shell.execute_reply": "2021-07-28T14:39:40.804402Z",
     "shell.execute_reply.started": "2021-07-28T14:37:51.223219Z"
    },
    "papermill": {
     "duration": 0.048057,
     "end_time": "2021-07-28T14:39:40.805029",
     "exception": false,
     "start_time": "2021-07-28T14:39:40.756972",
     "status": "completed"
    },
    "tags": []
   },
   "outputs": [],
   "source": [
    "for col in binary_cols:\n",
    "    df = label_encoder(df, col)"
   ]
  },
  {
   "cell_type": "code",
   "execution_count": 23,
   "id": "2d280790",
   "metadata": {
    "execution": {
     "iopub.execute_input": "2021-07-28T14:39:40.889460Z",
     "iopub.status.busy": "2021-07-28T14:39:40.888475Z",
     "iopub.status.idle": "2021-07-28T14:39:40.900942Z",
     "shell.execute_reply": "2021-07-28T14:39:40.900369Z",
     "shell.execute_reply.started": "2021-07-28T14:37:53.441501Z"
    },
    "papermill": {
     "duration": 0.057872,
     "end_time": "2021-07-28T14:39:40.901073",
     "exception": false,
     "start_time": "2021-07-28T14:39:40.843201",
     "status": "completed"
    },
    "tags": []
   },
   "outputs": [
    {
     "data": {
      "text/html": [
       "<div>\n",
       "<style scoped>\n",
       "    .dataframe tbody tr th:only-of-type {\n",
       "        vertical-align: middle;\n",
       "    }\n",
       "\n",
       "    .dataframe tbody tr th {\n",
       "        vertical-align: top;\n",
       "    }\n",
       "\n",
       "    .dataframe thead th {\n",
       "        text-align: right;\n",
       "    }\n",
       "</style>\n",
       "<table border=\"1\" class=\"dataframe\">\n",
       "  <thead>\n",
       "    <tr style=\"text-align: right;\">\n",
       "      <th></th>\n",
       "      <th>PREGNANCIES</th>\n",
       "      <th>GLUCOSE</th>\n",
       "      <th>BLOODPRESSURE</th>\n",
       "      <th>SKINTHICKNESS</th>\n",
       "      <th>INSULIN</th>\n",
       "      <th>BMI</th>\n",
       "      <th>DIABETESPEDIGREEFUNCTION</th>\n",
       "      <th>AGE</th>\n",
       "      <th>OUTCOME</th>\n",
       "      <th>NEW_AGE_CAT</th>\n",
       "      <th>NEW_BMI</th>\n",
       "      <th>NEW_GLUCOSE</th>\n",
       "      <th>NEW_AGE_BMI_NOM</th>\n",
       "      <th>NEW_AGE_GLUCOSE_NOM</th>\n",
       "      <th>NEW_INSULIN_SCORE</th>\n",
       "    </tr>\n",
       "  </thead>\n",
       "  <tbody>\n",
       "    <tr>\n",
       "      <th>0</th>\n",
       "      <td>6.000</td>\n",
       "      <td>148.000</td>\n",
       "      <td>72.000</td>\n",
       "      <td>35.000</td>\n",
       "      <td>169.500</td>\n",
       "      <td>33.600</td>\n",
       "      <td>0.627</td>\n",
       "      <td>50.000</td>\n",
       "      <td>1</td>\n",
       "      <td>1</td>\n",
       "      <td>Obese</td>\n",
       "      <td>Prediabetes</td>\n",
       "      <td>obesesenior</td>\n",
       "      <td>highsenior</td>\n",
       "      <td>0</td>\n",
       "    </tr>\n",
       "    <tr>\n",
       "      <th>1</th>\n",
       "      <td>1.000</td>\n",
       "      <td>85.000</td>\n",
       "      <td>66.000</td>\n",
       "      <td>29.000</td>\n",
       "      <td>102.500</td>\n",
       "      <td>26.600</td>\n",
       "      <td>0.351</td>\n",
       "      <td>31.000</td>\n",
       "      <td>0</td>\n",
       "      <td>0</td>\n",
       "      <td>Overweight</td>\n",
       "      <td>Normal</td>\n",
       "      <td>obesemature</td>\n",
       "      <td>normalmature</td>\n",
       "      <td>1</td>\n",
       "    </tr>\n",
       "    <tr>\n",
       "      <th>2</th>\n",
       "      <td>8.000</td>\n",
       "      <td>183.000</td>\n",
       "      <td>64.000</td>\n",
       "      <td>32.000</td>\n",
       "      <td>169.500</td>\n",
       "      <td>23.300</td>\n",
       "      <td>0.672</td>\n",
       "      <td>32.000</td>\n",
       "      <td>1</td>\n",
       "      <td>0</td>\n",
       "      <td>Healthy</td>\n",
       "      <td>Prediabetes</td>\n",
       "      <td>obesemature</td>\n",
       "      <td>highmature</td>\n",
       "      <td>0</td>\n",
       "    </tr>\n",
       "    <tr>\n",
       "      <th>3</th>\n",
       "      <td>1.000</td>\n",
       "      <td>89.000</td>\n",
       "      <td>66.000</td>\n",
       "      <td>23.000</td>\n",
       "      <td>94.000</td>\n",
       "      <td>28.100</td>\n",
       "      <td>0.167</td>\n",
       "      <td>21.000</td>\n",
       "      <td>0</td>\n",
       "      <td>0</td>\n",
       "      <td>Overweight</td>\n",
       "      <td>Normal</td>\n",
       "      <td>obesemature</td>\n",
       "      <td>normalmature</td>\n",
       "      <td>1</td>\n",
       "    </tr>\n",
       "    <tr>\n",
       "      <th>4</th>\n",
       "      <td>0.000</td>\n",
       "      <td>137.000</td>\n",
       "      <td>40.000</td>\n",
       "      <td>35.000</td>\n",
       "      <td>168.000</td>\n",
       "      <td>43.100</td>\n",
       "      <td>1.200</td>\n",
       "      <td>33.000</td>\n",
       "      <td>1</td>\n",
       "      <td>0</td>\n",
       "      <td>Obese</td>\n",
       "      <td>Normal</td>\n",
       "      <td>obesemature</td>\n",
       "      <td>highmature</td>\n",
       "      <td>0</td>\n",
       "    </tr>\n",
       "  </tbody>\n",
       "</table>\n",
       "</div>"
      ],
      "text/plain": [
       "   PREGNANCIES  GLUCOSE  BLOODPRESSURE  SKINTHICKNESS  INSULIN    BMI  DIABETESPEDIGREEFUNCTION    AGE  OUTCOME  NEW_AGE_CAT     NEW_BMI  NEW_GLUCOSE NEW_AGE_BMI_NOM  \\\n",
       "0        6.000  148.000         72.000         35.000  169.500 33.600                     0.627 50.000        1            1       Obese  Prediabetes     obesesenior   \n",
       "1        1.000   85.000         66.000         29.000  102.500 26.600                     0.351 31.000        0            0  Overweight       Normal     obesemature   \n",
       "2        8.000  183.000         64.000         32.000  169.500 23.300                     0.672 32.000        1            0     Healthy  Prediabetes     obesemature   \n",
       "3        1.000   89.000         66.000         23.000   94.000 28.100                     0.167 21.000        0            0  Overweight       Normal     obesemature   \n",
       "4        0.000  137.000         40.000         35.000  168.000 43.100                     1.200 33.000        1            0       Obese       Normal     obesemature   \n",
       "\n",
       "  NEW_AGE_GLUCOSE_NOM  NEW_INSULIN_SCORE  \n",
       "0          highsenior                  0  \n",
       "1        normalmature                  1  \n",
       "2          highmature                  0  \n",
       "3        normalmature                  1  \n",
       "4          highmature                  0  "
      ]
     },
     "execution_count": 23,
     "metadata": {},
     "output_type": "execute_result"
    }
   ],
   "source": [
    "df.head()"
   ]
  },
  {
   "cell_type": "code",
   "execution_count": 24,
   "id": "667e3b01",
   "metadata": {
    "execution": {
     "iopub.execute_input": "2021-07-28T14:39:40.986967Z",
     "iopub.status.busy": "2021-07-28T14:39:40.986337Z",
     "iopub.status.idle": "2021-07-28T14:39:41.011025Z",
     "shell.execute_reply": "2021-07-28T14:39:41.010521Z",
     "shell.execute_reply.started": "2021-07-28T14:37:57.502244Z"
    },
    "papermill": {
     "duration": 0.071532,
     "end_time": "2021-07-28T14:39:41.011160",
     "exception": false,
     "start_time": "2021-07-28T14:39:40.939628",
     "status": "completed"
    },
    "tags": []
   },
   "outputs": [
    {
     "data": {
      "text/html": [
       "<div>\n",
       "<style scoped>\n",
       "    .dataframe tbody tr th:only-of-type {\n",
       "        vertical-align: middle;\n",
       "    }\n",
       "\n",
       "    .dataframe tbody tr th {\n",
       "        vertical-align: top;\n",
       "    }\n",
       "\n",
       "    .dataframe thead th {\n",
       "        text-align: right;\n",
       "    }\n",
       "</style>\n",
       "<table border=\"1\" class=\"dataframe\">\n",
       "  <thead>\n",
       "    <tr style=\"text-align: right;\">\n",
       "      <th></th>\n",
       "      <th>PREGNANCIES</th>\n",
       "      <th>GLUCOSE</th>\n",
       "      <th>BLOODPRESSURE</th>\n",
       "      <th>SKINTHICKNESS</th>\n",
       "      <th>INSULIN</th>\n",
       "      <th>BMI</th>\n",
       "      <th>DIABETESPEDIGREEFUNCTION</th>\n",
       "      <th>AGE</th>\n",
       "      <th>OUTCOME</th>\n",
       "      <th>NEW_AGE_CAT</th>\n",
       "      <th>NEW_INSULIN_SCORE</th>\n",
       "      <th>NEW_BMI_Healthy</th>\n",
       "      <th>NEW_BMI_Overweight</th>\n",
       "      <th>NEW_BMI_Obese</th>\n",
       "      <th>NEW_GLUCOSE_Prediabetes</th>\n",
       "      <th>NEW_GLUCOSE_Diabetes</th>\n",
       "      <th>NEW_AGE_BMI_NOM_obesesenior</th>\n",
       "      <th>NEW_AGE_BMI_NOM_underweightmature</th>\n",
       "      <th>NEW_AGE_GLUCOSE_NOM_hiddensenior</th>\n",
       "      <th>NEW_AGE_GLUCOSE_NOM_highmature</th>\n",
       "      <th>NEW_AGE_GLUCOSE_NOM_highsenior</th>\n",
       "      <th>NEW_AGE_GLUCOSE_NOM_lowmature</th>\n",
       "      <th>NEW_AGE_GLUCOSE_NOM_lowsenior</th>\n",
       "      <th>NEW_AGE_GLUCOSE_NOM_normalmature</th>\n",
       "      <th>NEW_AGE_GLUCOSE_NOM_normalsenior</th>\n",
       "    </tr>\n",
       "  </thead>\n",
       "  <tbody>\n",
       "    <tr>\n",
       "      <th>0</th>\n",
       "      <td>6.000</td>\n",
       "      <td>148.000</td>\n",
       "      <td>72.000</td>\n",
       "      <td>35.000</td>\n",
       "      <td>169.500</td>\n",
       "      <td>33.600</td>\n",
       "      <td>0.627</td>\n",
       "      <td>50.000</td>\n",
       "      <td>1</td>\n",
       "      <td>1</td>\n",
       "      <td>0</td>\n",
       "      <td>0</td>\n",
       "      <td>0</td>\n",
       "      <td>1</td>\n",
       "      <td>1</td>\n",
       "      <td>0</td>\n",
       "      <td>1</td>\n",
       "      <td>0</td>\n",
       "      <td>0</td>\n",
       "      <td>0</td>\n",
       "      <td>1</td>\n",
       "      <td>0</td>\n",
       "      <td>0</td>\n",
       "      <td>0</td>\n",
       "      <td>0</td>\n",
       "    </tr>\n",
       "    <tr>\n",
       "      <th>1</th>\n",
       "      <td>1.000</td>\n",
       "      <td>85.000</td>\n",
       "      <td>66.000</td>\n",
       "      <td>29.000</td>\n",
       "      <td>102.500</td>\n",
       "      <td>26.600</td>\n",
       "      <td>0.351</td>\n",
       "      <td>31.000</td>\n",
       "      <td>0</td>\n",
       "      <td>0</td>\n",
       "      <td>1</td>\n",
       "      <td>0</td>\n",
       "      <td>1</td>\n",
       "      <td>0</td>\n",
       "      <td>0</td>\n",
       "      <td>0</td>\n",
       "      <td>0</td>\n",
       "      <td>0</td>\n",
       "      <td>0</td>\n",
       "      <td>0</td>\n",
       "      <td>0</td>\n",
       "      <td>0</td>\n",
       "      <td>0</td>\n",
       "      <td>1</td>\n",
       "      <td>0</td>\n",
       "    </tr>\n",
       "    <tr>\n",
       "      <th>2</th>\n",
       "      <td>8.000</td>\n",
       "      <td>183.000</td>\n",
       "      <td>64.000</td>\n",
       "      <td>32.000</td>\n",
       "      <td>169.500</td>\n",
       "      <td>23.300</td>\n",
       "      <td>0.672</td>\n",
       "      <td>32.000</td>\n",
       "      <td>1</td>\n",
       "      <td>0</td>\n",
       "      <td>0</td>\n",
       "      <td>1</td>\n",
       "      <td>0</td>\n",
       "      <td>0</td>\n",
       "      <td>1</td>\n",
       "      <td>0</td>\n",
       "      <td>0</td>\n",
       "      <td>0</td>\n",
       "      <td>0</td>\n",
       "      <td>1</td>\n",
       "      <td>0</td>\n",
       "      <td>0</td>\n",
       "      <td>0</td>\n",
       "      <td>0</td>\n",
       "      <td>0</td>\n",
       "    </tr>\n",
       "    <tr>\n",
       "      <th>3</th>\n",
       "      <td>1.000</td>\n",
       "      <td>89.000</td>\n",
       "      <td>66.000</td>\n",
       "      <td>23.000</td>\n",
       "      <td>94.000</td>\n",
       "      <td>28.100</td>\n",
       "      <td>0.167</td>\n",
       "      <td>21.000</td>\n",
       "      <td>0</td>\n",
       "      <td>0</td>\n",
       "      <td>1</td>\n",
       "      <td>0</td>\n",
       "      <td>1</td>\n",
       "      <td>0</td>\n",
       "      <td>0</td>\n",
       "      <td>0</td>\n",
       "      <td>0</td>\n",
       "      <td>0</td>\n",
       "      <td>0</td>\n",
       "      <td>0</td>\n",
       "      <td>0</td>\n",
       "      <td>0</td>\n",
       "      <td>0</td>\n",
       "      <td>1</td>\n",
       "      <td>0</td>\n",
       "    </tr>\n",
       "    <tr>\n",
       "      <th>4</th>\n",
       "      <td>0.000</td>\n",
       "      <td>137.000</td>\n",
       "      <td>40.000</td>\n",
       "      <td>35.000</td>\n",
       "      <td>168.000</td>\n",
       "      <td>43.100</td>\n",
       "      <td>1.200</td>\n",
       "      <td>33.000</td>\n",
       "      <td>1</td>\n",
       "      <td>0</td>\n",
       "      <td>0</td>\n",
       "      <td>0</td>\n",
       "      <td>0</td>\n",
       "      <td>1</td>\n",
       "      <td>0</td>\n",
       "      <td>0</td>\n",
       "      <td>0</td>\n",
       "      <td>0</td>\n",
       "      <td>0</td>\n",
       "      <td>1</td>\n",
       "      <td>0</td>\n",
       "      <td>0</td>\n",
       "      <td>0</td>\n",
       "      <td>0</td>\n",
       "      <td>0</td>\n",
       "    </tr>\n",
       "  </tbody>\n",
       "</table>\n",
       "</div>"
      ],
      "text/plain": [
       "   PREGNANCIES  GLUCOSE  BLOODPRESSURE  SKINTHICKNESS  INSULIN    BMI  DIABETESPEDIGREEFUNCTION    AGE  OUTCOME  NEW_AGE_CAT  NEW_INSULIN_SCORE  NEW_BMI_Healthy  \\\n",
       "0        6.000  148.000         72.000         35.000  169.500 33.600                     0.627 50.000        1            1                  0                0   \n",
       "1        1.000   85.000         66.000         29.000  102.500 26.600                     0.351 31.000        0            0                  1                0   \n",
       "2        8.000  183.000         64.000         32.000  169.500 23.300                     0.672 32.000        1            0                  0                1   \n",
       "3        1.000   89.000         66.000         23.000   94.000 28.100                     0.167 21.000        0            0                  1                0   \n",
       "4        0.000  137.000         40.000         35.000  168.000 43.100                     1.200 33.000        1            0                  0                0   \n",
       "\n",
       "   NEW_BMI_Overweight  NEW_BMI_Obese  NEW_GLUCOSE_Prediabetes  NEW_GLUCOSE_Diabetes  NEW_AGE_BMI_NOM_obesesenior  NEW_AGE_BMI_NOM_underweightmature  \\\n",
       "0                   0              1                        1                     0                            1                                  0   \n",
       "1                   1              0                        0                     0                            0                                  0   \n",
       "2                   0              0                        1                     0                            0                                  0   \n",
       "3                   1              0                        0                     0                            0                                  0   \n",
       "4                   0              1                        0                     0                            0                                  0   \n",
       "\n",
       "   NEW_AGE_GLUCOSE_NOM_hiddensenior  NEW_AGE_GLUCOSE_NOM_highmature  NEW_AGE_GLUCOSE_NOM_highsenior  NEW_AGE_GLUCOSE_NOM_lowmature  NEW_AGE_GLUCOSE_NOM_lowsenior  \\\n",
       "0                                 0                               0                               1                              0                              0   \n",
       "1                                 0                               0                               0                              0                              0   \n",
       "2                                 0                               1                               0                              0                              0   \n",
       "3                                 0                               0                               0                              0                              0   \n",
       "4                                 0                               1                               0                              0                              0   \n",
       "\n",
       "   NEW_AGE_GLUCOSE_NOM_normalmature  NEW_AGE_GLUCOSE_NOM_normalsenior  \n",
       "0                                 0                                 0  \n",
       "1                                 1                                 0  \n",
       "2                                 0                                 0  \n",
       "3                                 1                                 0  \n",
       "4                                 0                                 0  "
      ]
     },
     "execution_count": 24,
     "metadata": {},
     "output_type": "execute_result"
    }
   ],
   "source": [
    "# ONE-HOT ENCODING\n",
    "\n",
    "df = pd.get_dummies(df, drop_first=True)\n",
    "df.head()"
   ]
  },
  {
   "cell_type": "markdown",
   "id": "c2c9b9d1",
   "metadata": {
    "papermill": {
     "duration": 0.038351,
     "end_time": "2021-07-28T14:39:41.088488",
     "exception": false,
     "start_time": "2021-07-28T14:39:41.050137",
     "status": "completed"
    },
    "tags": []
   },
   "source": [
    "# Modelling"
   ]
  },
  {
   "cell_type": "code",
   "execution_count": 25,
   "id": "ab60e549",
   "metadata": {
    "execution": {
     "iopub.execute_input": "2021-07-28T14:39:41.176588Z",
     "iopub.status.busy": "2021-07-28T14:39:41.172451Z",
     "iopub.status.idle": "2021-07-28T14:39:41.320615Z",
     "shell.execute_reply": "2021-07-28T14:39:41.320118Z",
     "shell.execute_reply.started": "2021-07-28T14:38:01.010114Z"
    },
    "papermill": {
     "duration": 0.192999,
     "end_time": "2021-07-28T14:39:41.320801",
     "exception": false,
     "start_time": "2021-07-28T14:39:41.127802",
     "status": "completed"
    },
    "tags": []
   },
   "outputs": [],
   "source": [
    "y = df[\"OUTCOME\"]\n",
    "X = df.drop(\"OUTCOME\", axis=1)\n",
    "\n",
    "X_train, X_test, y_train, y_test = train_test_split(X, y, test_size=0.20)\n",
    "\n",
    "lgr = LogisticRegression(solver='liblinear')\n",
    "lgr_model = lgr.fit(X_train, y_train)"
   ]
  },
  {
   "cell_type": "code",
   "execution_count": 26,
   "id": "673e6826",
   "metadata": {
    "execution": {
     "iopub.execute_input": "2021-07-28T14:39:41.405293Z",
     "iopub.status.busy": "2021-07-28T14:39:41.404669Z",
     "iopub.status.idle": "2021-07-28T14:39:41.414491Z",
     "shell.execute_reply": "2021-07-28T14:39:41.415250Z",
     "shell.execute_reply.started": "2021-07-28T14:38:03.382602Z"
    },
    "papermill": {
     "duration": 0.055251,
     "end_time": "2021-07-28T14:39:41.415501",
     "exception": false,
     "start_time": "2021-07-28T14:39:41.360250",
     "status": "completed"
    },
    "tags": []
   },
   "outputs": [
    {
     "data": {
      "text/plain": [
       "0.8436482084690554"
      ]
     },
     "execution_count": 26,
     "metadata": {},
     "output_type": "execute_result"
    }
   ],
   "source": [
    "# TRAIN ERROR\n",
    "y_pred = lgr_model.predict(X_train)\n",
    "\n",
    "# Accuracy\n",
    "accuracy_score(y_train, y_pred)\n"
   ]
  },
  {
   "cell_type": "code",
   "execution_count": 27,
   "id": "60256de5",
   "metadata": {
    "execution": {
     "iopub.execute_input": "2021-07-28T14:39:41.554777Z",
     "iopub.status.busy": "2021-07-28T14:39:41.554175Z",
     "iopub.status.idle": "2021-07-28T14:39:41.560923Z",
     "shell.execute_reply": "2021-07-28T14:39:41.560262Z",
     "shell.execute_reply.started": "2021-07-28T14:38:05.153183Z"
    },
    "papermill": {
     "duration": 0.069216,
     "end_time": "2021-07-28T14:39:41.561106",
     "exception": false,
     "start_time": "2021-07-28T14:39:41.491890",
     "status": "completed"
    },
    "tags": []
   },
   "outputs": [
    {
     "name": "stdout",
     "output_type": "stream",
     "text": [
      "              precision    recall  f1-score   support\n",
      "\n",
      "           0       0.87      0.89      0.88       400\n",
      "           1       0.79      0.76      0.77       214\n",
      "\n",
      "    accuracy                           0.84       614\n",
      "   macro avg       0.83      0.82      0.83       614\n",
      "weighted avg       0.84      0.84      0.84       614\n",
      "\n"
     ]
    }
   ],
   "source": [
    "print(classification_report(y_train, y_pred))"
   ]
  },
  {
   "cell_type": "code",
   "execution_count": 28,
   "id": "16431f1a",
   "metadata": {
    "execution": {
     "iopub.execute_input": "2021-07-28T14:39:41.650218Z",
     "iopub.status.busy": "2021-07-28T14:39:41.649018Z",
     "iopub.status.idle": "2021-07-28T14:39:41.654342Z",
     "shell.execute_reply": "2021-07-28T14:39:41.653892Z",
     "shell.execute_reply.started": "2021-07-28T14:38:52.938842Z"
    },
    "papermill": {
     "duration": 0.052797,
     "end_time": "2021-07-28T14:39:41.654483",
     "exception": false,
     "start_time": "2021-07-28T14:39:41.601686",
     "status": "completed"
    },
    "tags": []
   },
   "outputs": [
    {
     "data": {
      "text/plain": [
       "0.8831168831168831"
      ]
     },
     "execution_count": 28,
     "metadata": {},
     "output_type": "execute_result"
    }
   ],
   "source": [
    "# TEST ERROR\n",
    "y_pred = lgr_model.predict(X_test)\n",
    "y_prob = lgr_model.predict_proba(X_test)[:, 1]\n",
    "\n",
    "# Accuracy\n",
    "accuracy_score(y_test, y_pred)"
   ]
  },
  {
   "cell_type": "code",
   "execution_count": 29,
   "id": "8f050215",
   "metadata": {
    "execution": {
     "iopub.execute_input": "2021-07-28T14:39:41.737418Z",
     "iopub.status.busy": "2021-07-28T14:39:41.736795Z",
     "iopub.status.idle": "2021-07-28T14:39:41.742378Z",
     "shell.execute_reply": "2021-07-28T14:39:41.742813Z",
     "shell.execute_reply.started": "2021-07-28T14:38:09.093685Z"
    },
    "papermill": {
     "duration": 0.049372,
     "end_time": "2021-07-28T14:39:41.742994",
     "exception": false,
     "start_time": "2021-07-28T14:39:41.693622",
     "status": "completed"
    },
    "tags": []
   },
   "outputs": [
    {
     "data": {
      "text/plain": [
       "0.8461538461538461"
      ]
     },
     "execution_count": 29,
     "metadata": {},
     "output_type": "execute_result"
    }
   ],
   "source": [
    "# Precision\n",
    "precision_score(y_test, y_pred)"
   ]
  },
  {
   "cell_type": "code",
   "execution_count": 30,
   "id": "7074dd1f",
   "metadata": {
    "execution": {
     "iopub.execute_input": "2021-07-28T14:39:41.829066Z",
     "iopub.status.busy": "2021-07-28T14:39:41.828456Z",
     "iopub.status.idle": "2021-07-28T14:39:41.833593Z",
     "shell.execute_reply": "2021-07-28T14:39:41.833168Z",
     "shell.execute_reply.started": "2021-07-28T14:38:11.486731Z"
    },
    "papermill": {
     "duration": 0.050649,
     "end_time": "2021-07-28T14:39:41.833724",
     "exception": false,
     "start_time": "2021-07-28T14:39:41.783075",
     "status": "completed"
    },
    "tags": []
   },
   "outputs": [
    {
     "data": {
      "text/plain": [
       "0.8148148148148148"
      ]
     },
     "execution_count": 30,
     "metadata": {},
     "output_type": "execute_result"
    }
   ],
   "source": [
    "# Recall\n",
    "recall_score(y_test, y_pred)"
   ]
  },
  {
   "cell_type": "code",
   "execution_count": 31,
   "id": "0cd1b448",
   "metadata": {
    "execution": {
     "iopub.execute_input": "2021-07-28T14:39:41.919449Z",
     "iopub.status.busy": "2021-07-28T14:39:41.918827Z",
     "iopub.status.idle": "2021-07-28T14:39:41.922637Z",
     "shell.execute_reply": "2021-07-28T14:39:41.922081Z",
     "shell.execute_reply.started": "2021-07-28T14:38:14.465803Z"
    },
    "papermill": {
     "duration": 0.04931,
     "end_time": "2021-07-28T14:39:41.922793",
     "exception": false,
     "start_time": "2021-07-28T14:39:41.873483",
     "status": "completed"
    },
    "tags": []
   },
   "outputs": [
    {
     "data": {
      "text/plain": [
       "0.830188679245283"
      ]
     },
     "execution_count": 31,
     "metadata": {},
     "output_type": "execute_result"
    }
   ],
   "source": [
    "# F1\n",
    "f1_score(y_test, y_pred)"
   ]
  },
  {
   "cell_type": "code",
   "execution_count": 32,
   "id": "19bc3eaa",
   "metadata": {
    "execution": {
     "iopub.execute_input": "2021-07-28T14:39:42.010060Z",
     "iopub.status.busy": "2021-07-28T14:39:42.009437Z",
     "iopub.status.idle": "2021-07-28T14:39:42.016224Z",
     "shell.execute_reply": "2021-07-28T14:39:42.016616Z",
     "shell.execute_reply.started": "2021-07-28T14:38:16.166087Z"
    },
    "papermill": {
     "duration": 0.053184,
     "end_time": "2021-07-28T14:39:42.016806",
     "exception": false,
     "start_time": "2021-07-28T14:39:41.963622",
     "status": "completed"
    },
    "tags": []
   },
   "outputs": [
    {
     "name": "stdout",
     "output_type": "stream",
     "text": [
      "              precision    recall  f1-score   support\n",
      "\n",
      "           0       0.90      0.92      0.91       100\n",
      "           1       0.85      0.81      0.83        54\n",
      "\n",
      "    accuracy                           0.88       154\n",
      "   macro avg       0.87      0.87      0.87       154\n",
      "weighted avg       0.88      0.88      0.88       154\n",
      "\n"
     ]
    }
   ],
   "source": [
    "print(classification_report(y_test, y_pred))"
   ]
  },
  {
   "cell_type": "code",
   "execution_count": 33,
   "id": "c54ef7dd",
   "metadata": {
    "execution": {
     "iopub.execute_input": "2021-07-28T14:39:42.105569Z",
     "iopub.status.busy": "2021-07-28T14:39:42.104976Z",
     "iopub.status.idle": "2021-07-28T14:39:42.236902Z",
     "shell.execute_reply": "2021-07-28T14:39:42.236393Z",
     "shell.execute_reply.started": "2021-07-28T14:38:18.958746Z"
    },
    "papermill": {
     "duration": 0.179165,
     "end_time": "2021-07-28T14:39:42.237036",
     "exception": false,
     "start_time": "2021-07-28T14:39:42.057871",
     "status": "completed"
    },
    "tags": []
   },
   "outputs": [
    {
     "data": {
      "image/png": "[encoded data removed]",
      "text/plain": [
       "<Figure size 432x288 with 1 Axes>"
      ]
     },
     "metadata": {
      "needs_background": "light"
     },
     "output_type": "display_data"
    }
   ],
   "source": [
    "# ROC Curve\n",
    "plot_roc_curve(lgr_model, X_test, y_test)\n",
    "plt.title('ROC Curve')\n",
    "plt.plot([0, 1], [0, 1], 'r--')\n",
    "plt.show()"
   ]
  },
  {
   "cell_type": "code",
   "execution_count": 34,
   "id": "af6af225",
   "metadata": {
    "execution": {
     "iopub.execute_input": "2021-07-28T14:39:42.325504Z",
     "iopub.status.busy": "2021-07-28T14:39:42.324568Z",
     "iopub.status.idle": "2021-07-28T14:39:42.329544Z",
     "shell.execute_reply": "2021-07-28T14:39:42.329998Z",
     "shell.execute_reply.started": "2021-07-28T14:38:21.391332Z"
    },
    "papermill": {
     "duration": 0.051593,
     "end_time": "2021-07-28T14:39:42.330157",
     "exception": false,
     "start_time": "2021-07-28T14:39:42.278564",
     "status": "completed"
    },
    "tags": []
   },
   "outputs": [
    {
     "data": {
      "text/plain": [
       "0.9218518518518518"
      ]
     },
     "execution_count": 34,
     "metadata": {},
     "output_type": "execute_result"
    }
   ],
   "source": [
    "# AUC\n",
    "roc_auc_score(y_test, y_prob)"
   ]
  },
  {
   "cell_type": "code",
   "execution_count": 35,
   "id": "c8da5011",
   "metadata": {
    "execution": {
     "iopub.execute_input": "2021-07-28T14:39:42.416720Z",
     "iopub.status.busy": "2021-07-28T14:39:42.415874Z",
     "iopub.status.idle": "2021-07-28T14:39:42.632723Z",
     "shell.execute_reply": "2021-07-28T14:39:42.632098Z",
     "shell.execute_reply.started": "2021-07-28T14:38:23.647272Z"
    },
    "papermill": {
     "duration": 0.261186,
     "end_time": "2021-07-28T14:39:42.632874",
     "exception": false,
     "start_time": "2021-07-28T14:39:42.371688",
     "status": "completed"
    },
    "tags": []
   },
   "outputs": [
    {
     "data": {
      "image/png": "[encoded data removed]",
      "text/plain": [
       "<Figure size 432x288 with 2 Axes>"
      ]
     },
     "metadata": {
      "needs_background": "light"
     },
     "output_type": "display_data"
    }
   ],
   "source": [
    "# Confusion Matrix\n",
    "def plot_confusion_matrix(y, y_pred):\n",
    "     acc = round(accuracy_score(y, y_pred), 2)\n",
    "     cm = confusion_matrix(y, y_pred)\n",
    "     sns.heatmap(cm, annot=True, fmt=\".0f\")\n",
    "     plt.xlabel('y_pred')\n",
    "     plt.ylabel('y')\n",
    "     plt.title('Accuracy Score: {0}'.format(acc), size=10)\n",
    "     plt.show()\n",
    "\n",
    "plot_confusion_matrix(y_test, y_pred)"
   ]
  }
 ],
 "metadata": {
  "kernelspec": {
   "display_name": "Python 3",
   "language": "python",
   "name": "python3"
  },
  "language_info": {
   "codemirror_mode": {
    "name": "ipython",
    "version": 3
   },
   "file_extension": ".py",
   "mimetype": "text/x-python",
   "name": "python",
   "nbconvert_exporter": "python",
   "pygments_lexer": "ipython3",
   "version": "3.7.10"
  },
  "papermill": {
   "default_parameters": {},
   "duration": 24.473544,
   "end_time": "2021-07-28T14:39:43.484716",
   "environment_variables": {},
   "exception": null,
   "input_path": "__notebook__.ipynb",
   "output_path": "__notebook__.ipynb",
   "parameters": {},
   "start_time": "2021-07-28T14:39:19.011172",
   "version": "2.3.3"
  }
 },
 "nbformat": 4,
 "nbformat_minor": 5
}
